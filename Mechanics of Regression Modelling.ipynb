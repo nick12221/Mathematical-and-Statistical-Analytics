{
 "cells": [
  {
   "cell_type": "markdown",
   "metadata": {},
   "source": [
    "# Math and Application of Multivariate Linear Regression Modelling"
   ]
  },
  {
   "cell_type": "markdown",
   "metadata": {},
   "source": [
    "In the first part of this notebook I go through the exercise of creating functions to create matrices, \n",
    "transpose matrices, create an identity matrix, calculate the dot product, get the diagonal matrix and then run through the formula used to calculate coefficient regressions in multivariate statistical analysis. In the second part I go through an EDA process with a data file, and in\n",
    "the third part use the formulas created from the linear algebra section to compute a regression model from scratch\n",
    "and evaluate its performance."
   ]
  },
  {
   "cell_type": "markdown",
   "metadata": {},
   "source": [
    "### Linear Algebra"
   ]
  },
  {
   "cell_type": "markdown",
   "metadata": {},
   "source": [
    "###### Create Functions"
   ]
  },
  {
   "cell_type": "code",
   "execution_count": 1,
   "metadata": {},
   "outputs": [],
   "source": [
    "import numpy as np\n",
    "from numpy import random"
   ]
  },
  {
   "cell_type": "code",
   "execution_count": 2,
   "metadata": {},
   "outputs": [],
   "source": [
    "'''Function to create a matrix (n x k) where the probability and distribution of a variable is conditional on another\n",
    "variable that follows a binomial distribution. This simulation of variables is used to populate an n x k matrix.'''\n",
    "def create_matrix(rows, columns, normal_mean, normal_std):\n",
    "    array_of_array_list = []\n",
    "    for i in range(0,rows):\n",
    "        array_list = []\n",
    "        for i in range(0, columns):\n",
    "            random_variable = random.binomial(1, .2)\n",
    "            if random_variable == 1:\n",
    "                x = random.normal(normal_mean, normal_std, size=1)\n",
    "                array_list.append(x[0])\n",
    "            else:\n",
    "                x = random.normal(normal_mean/2, normal_std/2, 1)\n",
    "                array_list.append(x[0])\n",
    "        \n",
    "        array_of_array_list.append(array_list)\n",
    "    \n",
    "    matrix = np.array(array_of_array_list)\n",
    "    return matrix"
   ]
  },
  {
   "cell_type": "code",
   "execution_count": 3,
   "metadata": {},
   "outputs": [],
   "source": [
    "#Create n x n identity matrix\n",
    "def create_identity_matrix(rows, columns):\n",
    "    array_of_array_list = []\n",
    "    if rows == columns:\n",
    "        array_of_list = [1] + (columns-1)*[0]\n",
    "        array_of_array_list.append(array_of_list)\n",
    "        \n",
    "        for i in range(0, rows-1):\n",
    "            array = [array_of_array_list[i][-1]] + array_of_array_list[i][:-1]\n",
    "            array_of_array_list.append(array)\n",
    "    else:\n",
    "        raise Exception(\"Matrix Must be a of equal rows and columns\")\n",
    "        \n",
    "    return array_of_array_list"
   ]
  },
  {
   "cell_type": "code",
   "execution_count": 4,
   "metadata": {},
   "outputs": [],
   "source": [
    "#Create a function to transpose any n x k matrix\n",
    "def transpose_matrix(matrix):\n",
    "    \n",
    "    list_of_transposed_list = []\n",
    "    for i in range(0,len(matrix[0])):\n",
    "        transposed_list = []\n",
    "        for j in range(0,len(matrix)):\n",
    "            transposed_number = matrix[j][i]\n",
    "            transposed_list.append(transposed_number)\n",
    "        \n",
    "        list_of_transposed_list.append(transposed_list)\n",
    "    \n",
    "    transposed_matrix = np.array(list_of_transposed_list)\n",
    "    \n",
    "    return transposed_matrix"
   ]
  },
  {
   "cell_type": "code",
   "execution_count": 5,
   "metadata": {},
   "outputs": [],
   "source": [
    "#Create a function to calculate the dot product between two matrices\n",
    "def dot_product(matrix1, matrix2):\n",
    "    multmatrix = []\n",
    "    \n",
    "    for i in range(0,len(matrix1)):\n",
    "        row_list = []\n",
    "        for j in range(0, len(matrix2[0])):            \n",
    "            number = 0\n",
    "            \n",
    "            for h in range(0, len(matrix2)):\n",
    "                number += matrix1[i][h] * matrix2[h][j]\n",
    "            \n",
    "            row_list.append(number)\n",
    "            \n",
    "        multmatrix.append(row_list)\n",
    "    \n",
    "    multmatrix = np.array(multmatrix)\n",
    "        \n",
    "    return multmatrix"
   ]
  },
  {
   "cell_type": "code",
   "execution_count": 6,
   "metadata": {},
   "outputs": [],
   "source": [
    "def get_matrix_diagonal(matrix):\n",
    "    diagonal_matrix = []\n",
    "    column_index = 0\n",
    "    \n",
    "    for i in range(len(matrix)):\n",
    "        diagonal_number = matrix[i][column_index]\n",
    "        diagonal_matrix.append(diagonal_number)\n",
    "        column_index += 1\n",
    "    \n",
    "    diagonal_matrix = np.array(diagonal_matrix)\n",
    "    return diagonal_matrix"
   ]
  },
  {
   "cell_type": "code",
   "execution_count": 7,
   "metadata": {},
   "outputs": [],
   "source": [
    "#Use the functions from above as well as numpy's inverse function to calculate regression coefficients\n",
    "def regression_formula(x_matrix, y_matrix):  \n",
    "    transposed_xmatrix = transpose_matrix(x_matrix)\n",
    "    identity_matrix = create_identity_matrix(len(x_matrix), len(transposed_xmatrix[0]))\n",
    "    \n",
    "    coefficient_matrix = dot_product(dot_product(np.linalg.inv((dot_product(transpose_matrix(x_matrix), x_matrix))), transpose_matrix(x_matrix)), y_matrix)\n",
    "    return coefficient_matrix "
   ]
  },
  {
   "cell_type": "code",
   "execution_count": 8,
   "metadata": {},
   "outputs": [],
   "source": [
    "def get_coefficient_std_errors(x_matrix, df, y_true, y_pred):\n",
    "    \n",
    "    inverted_matrix = np.linalg.inv(dot_product(transpose_matrix(x_matrix), x_matrix))\n",
    "    \n",
    "    diagonal_matrix = get_matrix_diagonal(inverted_matrix)\n",
    "    mse = sum(((df[y_true] - df[y_pred]) ** 2))/len(df)\n",
    "    std_error_matrix = np.sqrt(mse*diagonal_matrix)\n",
    "    \n",
    "    return std_error_matrix"
   ]
  },
  {
   "cell_type": "markdown",
   "metadata": {},
   "source": [
    "###### Run Analysis"
   ]
  },
  {
   "cell_type": "code",
   "execution_count": 9,
   "metadata": {},
   "outputs": [
    {
     "name": "stdout",
     "output_type": "stream",
     "text": [
      "[[ 4.46636696  7.71165489]\n",
      " [-1.87089622 18.75939558]]\n",
      "[[13.12894824]\n",
      " [-0.52350616]]\n"
     ]
    }
   ],
   "source": [
    "#Create x and y matrix\n",
    "random.seed(0)\n",
    "xmatrix = create_matrix(2, 2, 3, 8) \n",
    "ymatrix = create_matrix(2, 1, 3, 8) \n",
    "print(xmatrix)\n",
    "print(ymatrix)"
   ]
  },
  {
   "cell_type": "code",
   "execution_count": 10,
   "metadata": {},
   "outputs": [],
   "source": [
    "#Determinant for a two by two matrix\n",
    "# determinant = (xmatrix[0][0]*xmatrix[1][1]) - ((xmatrix[0][1]*xmatrix[1][0]))\n",
    "# determinant"
   ]
  },
  {
   "cell_type": "code",
   "execution_count": 11,
   "metadata": {},
   "outputs": [
    {
     "name": "stdout",
     "output_type": "stream",
     "text": [
      "determinant: 9645.999740200505\n"
     ]
    },
    {
     "data": {
      "text/plain": [
       "array([[ 0.03684586, -0.01413123],\n",
       "       [-0.01413123,  0.00823326]])"
      ]
     },
     "execution_count": 11,
     "metadata": {},
     "output_type": "execute_result"
    }
   ],
   "source": [
    "#Find determinant and inverse using numpy\n",
    "determinant = np.linalg.det(np.dot(xmatrix,np.transpose(xmatrix)))\n",
    "print(f'determinant: {determinant}')\n",
    "\n",
    "inverse_xmatrix = np.linalg.inv(np.dot(xmatrix,np.transpose(xmatrix)))\n",
    "inverse_xmatrix"
   ]
  },
  {
   "cell_type": "code",
   "execution_count": 12,
   "metadata": {},
   "outputs": [
    {
     "data": {
      "text/plain": [
       "[[1, 0], [0, 1]]"
      ]
     },
     "execution_count": 12,
     "metadata": {},
     "output_type": "execute_result"
    }
   ],
   "source": [
    "#Create identity matrix same length as xmatrix\n",
    "identity_matrix = create_identity_matrix(len(xmatrix), len(transpose_matrix(xmatrix)[0]))\n",
    "identity_matrix"
   ]
  },
  {
   "cell_type": "code",
   "execution_count": 13,
   "metadata": {},
   "outputs": [
    {
     "name": "stdout",
     "output_type": "stream",
     "text": [
      "[[ 4.46636696 -1.87089622]\n",
      " [ 7.71165489 18.75939558]]\n",
      "[[ 4.46636696 -1.87089622]\n",
      " [ 7.71165489 18.75939558]]\n"
     ]
    }
   ],
   "source": [
    "#Transpose a matrix and compare my created function to numpys built in one\n",
    "transposed_xmatrix = transpose_matrix(xmatrix)\n",
    "print(transposed_xmatrix)\n",
    "print(np.transpose(xmatrix))"
   ]
  },
  {
   "cell_type": "code",
   "execution_count": 14,
   "metadata": {},
   "outputs": [
    {
     "name": "stdout",
     "output_type": "stream",
     "text": [
      "[[ 79.41805496 136.30987559]\n",
      " [136.30987559 355.41517529]]\n"
     ]
    },
    {
     "data": {
      "text/plain": [
       "array([[ 79.41805496, 136.30987559],\n",
       "       [136.30987559, 355.41517529]])"
      ]
     },
     "execution_count": 14,
     "metadata": {},
     "output_type": "execute_result"
    }
   ],
   "source": [
    "#take dot product of x and transposed x matrix and compare formula output to numpy's\n",
    "print(dot_product(xmatrix, transpose_matrix(xmatrix)))\n",
    "np.dot(xmatrix, transpose_matrix(xmatrix))"
   ]
  },
  {
   "cell_type": "code",
   "execution_count": 15,
   "metadata": {},
   "outputs": [
    {
     "data": {
      "text/plain": [
       "array([ 4.46636696, 18.75939558])"
      ]
     },
     "execution_count": 15,
     "metadata": {},
     "output_type": "execute_result"
    }
   ],
   "source": [
    "#Use function to get matrix diagonal\n",
    "diagonal_matrix = get_matrix_diagonal(xmatrix)\n",
    "diagonal_matrix"
   ]
  },
  {
   "cell_type": "code",
   "execution_count": 16,
   "metadata": {},
   "outputs": [
    {
     "data": {
      "text/plain": [
       "array([ 4.46636696, 18.75939558])"
      ]
     },
     "execution_count": 16,
     "metadata": {},
     "output_type": "execute_result"
    }
   ],
   "source": [
    "#Compare function output to numpy's diagonal function\n",
    "np.diag(xmatrix)"
   ]
  },
  {
   "cell_type": "code",
   "execution_count": 17,
   "metadata": {},
   "outputs": [
    {
     "data": {
      "text/plain": [
       "array([[2.54880265],\n",
       "       [0.22628869]])"
      ]
     },
     "execution_count": 17,
     "metadata": {},
     "output_type": "execute_result"
    }
   ],
   "source": [
    "#Calculate simulated coefficients\n",
    "coefficients_matrix = regression_formula(xmatrix, ymatrix)\n",
    "coefficients_matrix"
   ]
  },
  {
   "cell_type": "code",
   "execution_count": 18,
   "metadata": {},
   "outputs": [
    {
     "data": {
      "text/plain": [
       "array([[2.54880265],\n",
       "       [0.22628869]])"
      ]
     },
     "execution_count": 18,
     "metadata": {},
     "output_type": "execute_result"
    }
   ],
   "source": [
    "#Coefficient formula using numpy for comparison\n",
    "np.dot(np.dot(np.linalg.inv(np.dot(np.transpose(xmatrix),xmatrix)), np.transpose(xmatrix)), ymatrix)"
   ]
  },
  {
   "cell_type": "markdown",
   "metadata": {},
   "source": [
    "### Exploratory Data Analysis"
   ]
  },
  {
   "cell_type": "code",
   "execution_count": 19,
   "metadata": {},
   "outputs": [],
   "source": [
    "import pandas as pd\n",
    "import seaborn as sn\n",
    "import matplotlib.pyplot as plt\n",
    "import matplotlib.backends.backend_pdf"
   ]
  },
  {
   "cell_type": "code",
   "execution_count": 20,
   "metadata": {},
   "outputs": [
    {
     "data": {
      "text/html": [
       "<div>\n",
       "<style scoped>\n",
       "    .dataframe tbody tr th:only-of-type {\n",
       "        vertical-align: middle;\n",
       "    }\n",
       "\n",
       "    .dataframe tbody tr th {\n",
       "        vertical-align: top;\n",
       "    }\n",
       "\n",
       "    .dataframe thead th {\n",
       "        text-align: right;\n",
       "    }\n",
       "</style>\n",
       "<table border=\"1\" class=\"dataframe\">\n",
       "  <thead>\n",
       "    <tr style=\"text-align: right;\">\n",
       "      <th></th>\n",
       "      <th>Plural</th>\n",
       "      <th>Sex</th>\n",
       "      <th>Mom Age</th>\n",
       "      <th>Weeks</th>\n",
       "      <th>Marital</th>\n",
       "      <th>Weight Gained</th>\n",
       "      <th>Smoke</th>\n",
       "      <th>BirthWeightOz</th>\n",
       "      <th>Low</th>\n",
       "      <th>Premie</th>\n",
       "      <th>MomRace</th>\n",
       "    </tr>\n",
       "  </thead>\n",
       "  <tbody>\n",
       "    <tr>\n",
       "      <th>0</th>\n",
       "      <td>1</td>\n",
       "      <td>1</td>\n",
       "      <td>32</td>\n",
       "      <td>40</td>\n",
       "      <td>1</td>\n",
       "      <td>38</td>\n",
       "      <td>0</td>\n",
       "      <td>111</td>\n",
       "      <td>0</td>\n",
       "      <td>0</td>\n",
       "      <td>white</td>\n",
       "    </tr>\n",
       "    <tr>\n",
       "      <th>1</th>\n",
       "      <td>1</td>\n",
       "      <td>2</td>\n",
       "      <td>32</td>\n",
       "      <td>37</td>\n",
       "      <td>1</td>\n",
       "      <td>34</td>\n",
       "      <td>0</td>\n",
       "      <td>116</td>\n",
       "      <td>0</td>\n",
       "      <td>0</td>\n",
       "      <td>white</td>\n",
       "    </tr>\n",
       "    <tr>\n",
       "      <th>2</th>\n",
       "      <td>1</td>\n",
       "      <td>1</td>\n",
       "      <td>27</td>\n",
       "      <td>39</td>\n",
       "      <td>1</td>\n",
       "      <td>12</td>\n",
       "      <td>0</td>\n",
       "      <td>138</td>\n",
       "      <td>0</td>\n",
       "      <td>0</td>\n",
       "      <td>white</td>\n",
       "    </tr>\n",
       "    <tr>\n",
       "      <th>3</th>\n",
       "      <td>1</td>\n",
       "      <td>1</td>\n",
       "      <td>27</td>\n",
       "      <td>39</td>\n",
       "      <td>1</td>\n",
       "      <td>15</td>\n",
       "      <td>0</td>\n",
       "      <td>136</td>\n",
       "      <td>0</td>\n",
       "      <td>0</td>\n",
       "      <td>white</td>\n",
       "    </tr>\n",
       "    <tr>\n",
       "      <th>4</th>\n",
       "      <td>1</td>\n",
       "      <td>1</td>\n",
       "      <td>25</td>\n",
       "      <td>39</td>\n",
       "      <td>1</td>\n",
       "      <td>32</td>\n",
       "      <td>0</td>\n",
       "      <td>121</td>\n",
       "      <td>0</td>\n",
       "      <td>0</td>\n",
       "      <td>white</td>\n",
       "    </tr>\n",
       "  </tbody>\n",
       "</table>\n",
       "</div>"
      ],
      "text/plain": [
       "   Plural  Sex  Mom Age  Weeks  Marital  Weight Gained  Smoke  BirthWeightOz  \\\n",
       "0       1    1       32     40        1             38      0            111   \n",
       "1       1    2       32     37        1             34      0            116   \n",
       "2       1    1       27     39        1             12      0            138   \n",
       "3       1    1       27     39        1             15      0            136   \n",
       "4       1    1       25     39        1             32      0            121   \n",
       "\n",
       "   Low  Premie MomRace  \n",
       "0    0       0   white  \n",
       "1    0       0   white  \n",
       "2    0       0   white  \n",
       "3    0       0   white  \n",
       "4    0       0   white  "
      ]
     },
     "execution_count": 20,
     "metadata": {},
     "output_type": "execute_result"
    }
   ],
   "source": [
    "#Set chart background to seaborn and import dataset\n",
    "sn.set()\n",
    "data = pd.read_csv(r'C:\\Users\\nickp\\Desktop\\data science\\baby weight\\births.csv')\n",
    "data.head()"
   ]
  },
  {
   "cell_type": "code",
   "execution_count": 21,
   "metadata": {},
   "outputs": [],
   "source": [
    "#Dictionaries for mapping\n",
    "gender = {1: 'male',\n",
    "       2: 'female'}\n",
    "\n",
    "marital_status = {1: 'married',\n",
    "                 2: 'not married'}\n",
    "\n",
    "smoker = {1: 'yes',\n",
    "         0: 'no'}\n",
    "\n",
    "#premature defined as less than 36 weeks\n",
    "premie = {0: 'no',\n",
    "         1: 'yes'}"
   ]
  },
  {
   "cell_type": "code",
   "execution_count": 22,
   "metadata": {},
   "outputs": [],
   "source": [
    "#lists for mapping dictionaries to new columns\n",
    "\n",
    "numeric_to_categorical_dicts = [gender, marital_status, smoker, premie]\n",
    "mapping_columns_list = ['Sex', 'Marital', 'Smoke', 'Premie']\n",
    "\n",
    "#Zip above lists to run mapping of dictionaries\n",
    "for a, b in zip(numeric_to_categorical_dicts, mapping_columns_list):\n",
    "    data[b+'_category'] = data[b].map(a)"
   ]
  },
  {
   "cell_type": "code",
   "execution_count": 23,
   "metadata": {},
   "outputs": [
    {
     "data": {
      "text/plain": [
       "Plural               int64\n",
       "Sex                  int64\n",
       "Mom Age              int64\n",
       "Weeks                int64\n",
       "Marital              int64\n",
       "Weight Gained        int64\n",
       "Smoke                int64\n",
       "BirthWeightOz        int64\n",
       "Low                  int64\n",
       "Premie               int64\n",
       "MomRace             object\n",
       "Sex_category        object\n",
       "Marital_category    object\n",
       "Smoke_category      object\n",
       "Premie_category     object\n",
       "dtype: object"
      ]
     },
     "execution_count": 23,
     "metadata": {},
     "output_type": "execute_result"
    }
   ],
   "source": [
    "#Check data types\n",
    "data.dtypes"
   ]
  },
  {
   "cell_type": "code",
   "execution_count": 24,
   "metadata": {},
   "outputs": [
    {
     "data": {
      "text/plain": [
       "Plural              0\n",
       "Sex                 0\n",
       "Mom Age             0\n",
       "Weeks               0\n",
       "Marital             0\n",
       "Weight Gained       0\n",
       "Smoke               0\n",
       "BirthWeightOz       0\n",
       "Low                 0\n",
       "Premie              0\n",
       "MomRace             0\n",
       "Sex_category        0\n",
       "Marital_category    0\n",
       "Smoke_category      0\n",
       "Premie_category     0\n",
       "dtype: int64"
      ]
     },
     "execution_count": 24,
     "metadata": {},
     "output_type": "execute_result"
    }
   ],
   "source": [
    "#check null values\n",
    "data.isnull().sum()"
   ]
  },
  {
   "cell_type": "code",
   "execution_count": 25,
   "metadata": {},
   "outputs": [
    {
     "data": {
      "text/plain": [
       "(1409, 15)"
      ]
     },
     "execution_count": 25,
     "metadata": {},
     "output_type": "execute_result"
    }
   ],
   "source": [
    "#Check data shape\n",
    "data.shape"
   ]
  },
  {
   "cell_type": "code",
   "execution_count": 26,
   "metadata": {},
   "outputs": [
    {
     "data": {
      "text/html": [
       "<div>\n",
       "<style scoped>\n",
       "    .dataframe tbody tr th:only-of-type {\n",
       "        vertical-align: middle;\n",
       "    }\n",
       "\n",
       "    .dataframe tbody tr th {\n",
       "        vertical-align: top;\n",
       "    }\n",
       "\n",
       "    .dataframe thead th {\n",
       "        text-align: right;\n",
       "    }\n",
       "</style>\n",
       "<table border=\"1\" class=\"dataframe\">\n",
       "  <thead>\n",
       "    <tr style=\"text-align: right;\">\n",
       "      <th></th>\n",
       "      <th>Plural</th>\n",
       "      <th>Sex</th>\n",
       "      <th>Mom Age</th>\n",
       "      <th>Weeks</th>\n",
       "      <th>Marital</th>\n",
       "      <th>Weight Gained</th>\n",
       "      <th>Smoke</th>\n",
       "      <th>BirthWeightOz</th>\n",
       "      <th>Low</th>\n",
       "      <th>Premie</th>\n",
       "    </tr>\n",
       "  </thead>\n",
       "  <tbody>\n",
       "    <tr>\n",
       "      <th>count</th>\n",
       "      <td>1409.000000</td>\n",
       "      <td>1409.000000</td>\n",
       "      <td>1409.000000</td>\n",
       "      <td>1409.000000</td>\n",
       "      <td>1409.000000</td>\n",
       "      <td>1409.000000</td>\n",
       "      <td>1409.000000</td>\n",
       "      <td>1409.000000</td>\n",
       "      <td>1409.000000</td>\n",
       "      <td>1409.00000</td>\n",
       "    </tr>\n",
       "    <tr>\n",
       "      <th>mean</th>\n",
       "      <td>1.036196</td>\n",
       "      <td>1.488999</td>\n",
       "      <td>26.792761</td>\n",
       "      <td>38.649397</td>\n",
       "      <td>1.344925</td>\n",
       "      <td>30.589780</td>\n",
       "      <td>0.146203</td>\n",
       "      <td>116.440738</td>\n",
       "      <td>0.084457</td>\n",
       "      <td>0.12846</td>\n",
       "    </tr>\n",
       "    <tr>\n",
       "      <th>std</th>\n",
       "      <td>0.201475</td>\n",
       "      <td>0.500056</td>\n",
       "      <td>6.089151</td>\n",
       "      <td>2.654167</td>\n",
       "      <td>0.475513</td>\n",
       "      <td>13.875535</td>\n",
       "      <td>0.353435</td>\n",
       "      <td>22.125534</td>\n",
       "      <td>0.278171</td>\n",
       "      <td>0.33472</td>\n",
       "    </tr>\n",
       "    <tr>\n",
       "      <th>min</th>\n",
       "      <td>1.000000</td>\n",
       "      <td>1.000000</td>\n",
       "      <td>13.000000</td>\n",
       "      <td>22.000000</td>\n",
       "      <td>1.000000</td>\n",
       "      <td>0.000000</td>\n",
       "      <td>0.000000</td>\n",
       "      <td>12.000000</td>\n",
       "      <td>0.000000</td>\n",
       "      <td>0.00000</td>\n",
       "    </tr>\n",
       "    <tr>\n",
       "      <th>25%</th>\n",
       "      <td>1.000000</td>\n",
       "      <td>1.000000</td>\n",
       "      <td>22.000000</td>\n",
       "      <td>38.000000</td>\n",
       "      <td>1.000000</td>\n",
       "      <td>20.000000</td>\n",
       "      <td>0.000000</td>\n",
       "      <td>106.000000</td>\n",
       "      <td>0.000000</td>\n",
       "      <td>0.00000</td>\n",
       "    </tr>\n",
       "    <tr>\n",
       "      <th>50%</th>\n",
       "      <td>1.000000</td>\n",
       "      <td>1.000000</td>\n",
       "      <td>26.000000</td>\n",
       "      <td>39.000000</td>\n",
       "      <td>1.000000</td>\n",
       "      <td>30.000000</td>\n",
       "      <td>0.000000</td>\n",
       "      <td>118.000000</td>\n",
       "      <td>0.000000</td>\n",
       "      <td>0.00000</td>\n",
       "    </tr>\n",
       "    <tr>\n",
       "      <th>75%</th>\n",
       "      <td>1.000000</td>\n",
       "      <td>2.000000</td>\n",
       "      <td>31.000000</td>\n",
       "      <td>40.000000</td>\n",
       "      <td>2.000000</td>\n",
       "      <td>40.000000</td>\n",
       "      <td>0.000000</td>\n",
       "      <td>130.000000</td>\n",
       "      <td>0.000000</td>\n",
       "      <td>0.00000</td>\n",
       "    </tr>\n",
       "    <tr>\n",
       "      <th>max</th>\n",
       "      <td>3.000000</td>\n",
       "      <td>2.000000</td>\n",
       "      <td>43.000000</td>\n",
       "      <td>45.000000</td>\n",
       "      <td>2.000000</td>\n",
       "      <td>95.000000</td>\n",
       "      <td>1.000000</td>\n",
       "      <td>181.000000</td>\n",
       "      <td>1.000000</td>\n",
       "      <td>1.00000</td>\n",
       "    </tr>\n",
       "  </tbody>\n",
       "</table>\n",
       "</div>"
      ],
      "text/plain": [
       "            Plural          Sex      Mom Age        Weeks      Marital  \\\n",
       "count  1409.000000  1409.000000  1409.000000  1409.000000  1409.000000   \n",
       "mean      1.036196     1.488999    26.792761    38.649397     1.344925   \n",
       "std       0.201475     0.500056     6.089151     2.654167     0.475513   \n",
       "min       1.000000     1.000000    13.000000    22.000000     1.000000   \n",
       "25%       1.000000     1.000000    22.000000    38.000000     1.000000   \n",
       "50%       1.000000     1.000000    26.000000    39.000000     1.000000   \n",
       "75%       1.000000     2.000000    31.000000    40.000000     2.000000   \n",
       "max       3.000000     2.000000    43.000000    45.000000     2.000000   \n",
       "\n",
       "       Weight Gained        Smoke  BirthWeightOz          Low      Premie  \n",
       "count    1409.000000  1409.000000    1409.000000  1409.000000  1409.00000  \n",
       "mean       30.589780     0.146203     116.440738     0.084457     0.12846  \n",
       "std        13.875535     0.353435      22.125534     0.278171     0.33472  \n",
       "min         0.000000     0.000000      12.000000     0.000000     0.00000  \n",
       "25%        20.000000     0.000000     106.000000     0.000000     0.00000  \n",
       "50%        30.000000     0.000000     118.000000     0.000000     0.00000  \n",
       "75%        40.000000     0.000000     130.000000     0.000000     0.00000  \n",
       "max        95.000000     1.000000     181.000000     1.000000     1.00000  "
      ]
     },
     "execution_count": 26,
     "metadata": {},
     "output_type": "execute_result"
    }
   ],
   "source": [
    "#summary statistics\n",
    "data.describe()"
   ]
  },
  {
   "cell_type": "code",
   "execution_count": 27,
   "metadata": {},
   "outputs": [
    {
     "data": {
      "text/html": [
       "<style  type=\"text/css\" >\n",
       "    #T_2dd11f8a_3221_11ec_aff5_dcf5059dd1aarow0_col0 {\n",
       "            background-color:  #b40426;\n",
       "            color:  #f1f1f1;\n",
       "        }    #T_2dd11f8a_3221_11ec_aff5_dcf5059dd1aarow0_col1 {\n",
       "            background-color:  #465ecf;\n",
       "            color:  #f1f1f1;\n",
       "        }    #T_2dd11f8a_3221_11ec_aff5_dcf5059dd1aarow0_col2 {\n",
       "            background-color:  #b7cff9;\n",
       "            color:  #000000;\n",
       "        }    #T_2dd11f8a_3221_11ec_aff5_dcf5059dd1aarow0_col3 {\n",
       "            background-color:  #84a7fc;\n",
       "            color:  #000000;\n",
       "        }    #T_2dd11f8a_3221_11ec_aff5_dcf5059dd1aarow0_col4 {\n",
       "            background-color:  #9dbdff;\n",
       "            color:  #000000;\n",
       "        }    #T_2dd11f8a_3221_11ec_aff5_dcf5059dd1aarow0_col5 {\n",
       "            background-color:  #7396f5;\n",
       "            color:  #000000;\n",
       "        }    #T_2dd11f8a_3221_11ec_aff5_dcf5059dd1aarow0_col6 {\n",
       "            background-color:  #4f69d9;\n",
       "            color:  #000000;\n",
       "        }    #T_2dd11f8a_3221_11ec_aff5_dcf5059dd1aarow0_col7 {\n",
       "            background-color:  #7a9df8;\n",
       "            color:  #000000;\n",
       "        }    #T_2dd11f8a_3221_11ec_aff5_dcf5059dd1aarow0_col8 {\n",
       "            background-color:  #f5c4ac;\n",
       "            color:  #000000;\n",
       "        }    #T_2dd11f8a_3221_11ec_aff5_dcf5059dd1aarow0_col9 {\n",
       "            background-color:  #f1cdba;\n",
       "            color:  #000000;\n",
       "        }    #T_2dd11f8a_3221_11ec_aff5_dcf5059dd1aarow1_col0 {\n",
       "            background-color:  #8caffe;\n",
       "            color:  #000000;\n",
       "        }    #T_2dd11f8a_3221_11ec_aff5_dcf5059dd1aarow1_col1 {\n",
       "            background-color:  #b40426;\n",
       "            color:  #f1f1f1;\n",
       "        }    #T_2dd11f8a_3221_11ec_aff5_dcf5059dd1aarow1_col2 {\n",
       "            background-color:  #a9c6fd;\n",
       "            color:  #000000;\n",
       "        }    #T_2dd11f8a_3221_11ec_aff5_dcf5059dd1aarow1_col3 {\n",
       "            background-color:  #cedaeb;\n",
       "            color:  #000000;\n",
       "        }    #T_2dd11f8a_3221_11ec_aff5_dcf5059dd1aarow1_col4 {\n",
       "            background-color:  #a2c1ff;\n",
       "            color:  #000000;\n",
       "        }    #T_2dd11f8a_3221_11ec_aff5_dcf5059dd1aarow1_col5 {\n",
       "            background-color:  #5470de;\n",
       "            color:  #000000;\n",
       "        }    #T_2dd11f8a_3221_11ec_aff5_dcf5059dd1aarow1_col6 {\n",
       "            background-color:  #5d7ce6;\n",
       "            color:  #000000;\n",
       "        }    #T_2dd11f8a_3221_11ec_aff5_dcf5059dd1aarow1_col7 {\n",
       "            background-color:  #b6cefa;\n",
       "            color:  #000000;\n",
       "        }    #T_2dd11f8a_3221_11ec_aff5_dcf5059dd1aarow1_col8 {\n",
       "            background-color:  #bbd1f8;\n",
       "            color:  #000000;\n",
       "        }    #T_2dd11f8a_3221_11ec_aff5_dcf5059dd1aarow1_col9 {\n",
       "            background-color:  #c0d4f5;\n",
       "            color:  #000000;\n",
       "        }    #T_2dd11f8a_3221_11ec_aff5_dcf5059dd1aarow2_col0 {\n",
       "            background-color:  #a3c2fe;\n",
       "            color:  #000000;\n",
       "        }    #T_2dd11f8a_3221_11ec_aff5_dcf5059dd1aarow2_col1 {\n",
       "            background-color:  #4e68d8;\n",
       "            color:  #000000;\n",
       "        }    #T_2dd11f8a_3221_11ec_aff5_dcf5059dd1aarow2_col2 {\n",
       "            background-color:  #b40426;\n",
       "            color:  #f1f1f1;\n",
       "        }    #T_2dd11f8a_3221_11ec_aff5_dcf5059dd1aarow2_col3 {\n",
       "            background-color:  #ccd9ed;\n",
       "            color:  #000000;\n",
       "        }    #T_2dd11f8a_3221_11ec_aff5_dcf5059dd1aarow2_col4 {\n",
       "            background-color:  #3b4cc0;\n",
       "            color:  #f1f1f1;\n",
       "        }    #T_2dd11f8a_3221_11ec_aff5_dcf5059dd1aarow2_col5 {\n",
       "            background-color:  #5977e3;\n",
       "            color:  #000000;\n",
       "        }    #T_2dd11f8a_3221_11ec_aff5_dcf5059dd1aarow2_col6 {\n",
       "            background-color:  #4257c9;\n",
       "            color:  #f1f1f1;\n",
       "        }    #T_2dd11f8a_3221_11ec_aff5_dcf5059dd1aarow2_col7 {\n",
       "            background-color:  #dbdcde;\n",
       "            color:  #000000;\n",
       "        }    #T_2dd11f8a_3221_11ec_aff5_dcf5059dd1aarow2_col8 {\n",
       "            background-color:  #b2ccfb;\n",
       "            color:  #000000;\n",
       "        }    #T_2dd11f8a_3221_11ec_aff5_dcf5059dd1aarow2_col9 {\n",
       "            background-color:  #bad0f8;\n",
       "            color:  #000000;\n",
       "        }    #T_2dd11f8a_3221_11ec_aff5_dcf5059dd1aarow3_col0 {\n",
       "            background-color:  #3d50c3;\n",
       "            color:  #f1f1f1;\n",
       "        }    #T_2dd11f8a_3221_11ec_aff5_dcf5059dd1aarow3_col1 {\n",
       "            background-color:  #5875e1;\n",
       "            color:  #000000;\n",
       "        }    #T_2dd11f8a_3221_11ec_aff5_dcf5059dd1aarow3_col2 {\n",
       "            background-color:  #adc9fd;\n",
       "            color:  #000000;\n",
       "        }    #T_2dd11f8a_3221_11ec_aff5_dcf5059dd1aarow3_col3 {\n",
       "            background-color:  #b40426;\n",
       "            color:  #f1f1f1;\n",
       "        }    #T_2dd11f8a_3221_11ec_aff5_dcf5059dd1aarow3_col4 {\n",
       "            background-color:  #96b7ff;\n",
       "            color:  #000000;\n",
       "        }    #T_2dd11f8a_3221_11ec_aff5_dcf5059dd1aarow3_col5 {\n",
       "            background-color:  #688aef;\n",
       "            color:  #000000;\n",
       "        }    #T_2dd11f8a_3221_11ec_aff5_dcf5059dd1aarow3_col6 {\n",
       "            background-color:  #5572df;\n",
       "            color:  #000000;\n",
       "        }    #T_2dd11f8a_3221_11ec_aff5_dcf5059dd1aarow3_col7 {\n",
       "            background-color:  #f4987a;\n",
       "            color:  #000000;\n",
       "        }    #T_2dd11f8a_3221_11ec_aff5_dcf5059dd1aarow3_col8 {\n",
       "            background-color:  #5470de;\n",
       "            color:  #000000;\n",
       "        }    #T_2dd11f8a_3221_11ec_aff5_dcf5059dd1aarow3_col9 {\n",
       "            background-color:  #3b4cc0;\n",
       "            color:  #f1f1f1;\n",
       "        }    #T_2dd11f8a_3221_11ec_aff5_dcf5059dd1aarow4_col0 {\n",
       "            background-color:  #85a8fc;\n",
       "            color:  #000000;\n",
       "        }    #T_2dd11f8a_3221_11ec_aff5_dcf5059dd1aarow4_col1 {\n",
       "            background-color:  #455cce;\n",
       "            color:  #f1f1f1;\n",
       "        }    #T_2dd11f8a_3221_11ec_aff5_dcf5059dd1aarow4_col2 {\n",
       "            background-color:  #3b4cc0;\n",
       "            color:  #f1f1f1;\n",
       "        }    #T_2dd11f8a_3221_11ec_aff5_dcf5059dd1aarow4_col3 {\n",
       "            background-color:  #b9d0f9;\n",
       "            color:  #000000;\n",
       "        }    #T_2dd11f8a_3221_11ec_aff5_dcf5059dd1aarow4_col4 {\n",
       "            background-color:  #b40426;\n",
       "            color:  #f1f1f1;\n",
       "        }    #T_2dd11f8a_3221_11ec_aff5_dcf5059dd1aarow4_col5 {\n",
       "            background-color:  #4e68d8;\n",
       "            color:  #000000;\n",
       "        }    #T_2dd11f8a_3221_11ec_aff5_dcf5059dd1aarow4_col6 {\n",
       "            background-color:  #90b2fe;\n",
       "            color:  #000000;\n",
       "        }    #T_2dd11f8a_3221_11ec_aff5_dcf5059dd1aarow4_col7 {\n",
       "            background-color:  #9ebeff;\n",
       "            color:  #000000;\n",
       "        }    #T_2dd11f8a_3221_11ec_aff5_dcf5059dd1aarow4_col8 {\n",
       "            background-color:  #cfdaea;\n",
       "            color:  #000000;\n",
       "        }    #T_2dd11f8a_3221_11ec_aff5_dcf5059dd1aarow4_col9 {\n",
       "            background-color:  #d5dbe5;\n",
       "            color:  #000000;\n",
       "        }    #T_2dd11f8a_3221_11ec_aff5_dcf5059dd1aarow5_col0 {\n",
       "            background-color:  #a6c4fe;\n",
       "            color:  #000000;\n",
       "        }    #T_2dd11f8a_3221_11ec_aff5_dcf5059dd1aarow5_col1 {\n",
       "            background-color:  #455cce;\n",
       "            color:  #f1f1f1;\n",
       "        }    #T_2dd11f8a_3221_11ec_aff5_dcf5059dd1aarow5_col2 {\n",
       "            background-color:  #a7c5fe;\n",
       "            color:  #000000;\n",
       "        }    #T_2dd11f8a_3221_11ec_aff5_dcf5059dd1aarow5_col3 {\n",
       "            background-color:  #cfdaea;\n",
       "            color:  #000000;\n",
       "        }    #T_2dd11f8a_3221_11ec_aff5_dcf5059dd1aarow5_col4 {\n",
       "            background-color:  #9dbdff;\n",
       "            color:  #000000;\n",
       "        }    #T_2dd11f8a_3221_11ec_aff5_dcf5059dd1aarow5_col5 {\n",
       "            background-color:  #b40426;\n",
       "            color:  #f1f1f1;\n",
       "        }    #T_2dd11f8a_3221_11ec_aff5_dcf5059dd1aarow5_col6 {\n",
       "            background-color:  #5f7fe8;\n",
       "            color:  #000000;\n",
       "        }    #T_2dd11f8a_3221_11ec_aff5_dcf5059dd1aarow5_col7 {\n",
       "            background-color:  #e0dbd8;\n",
       "            color:  #000000;\n",
       "        }    #T_2dd11f8a_3221_11ec_aff5_dcf5059dd1aarow5_col8 {\n",
       "            background-color:  #abc8fd;\n",
       "            color:  #000000;\n",
       "        }    #T_2dd11f8a_3221_11ec_aff5_dcf5059dd1aarow5_col9 {\n",
       "            background-color:  #bfd3f6;\n",
       "            color:  #000000;\n",
       "        }    #T_2dd11f8a_3221_11ec_aff5_dcf5059dd1aarow6_col0 {\n",
       "            background-color:  #80a3fa;\n",
       "            color:  #000000;\n",
       "        }    #T_2dd11f8a_3221_11ec_aff5_dcf5059dd1aarow6_col1 {\n",
       "            background-color:  #465ecf;\n",
       "            color:  #f1f1f1;\n",
       "        }    #T_2dd11f8a_3221_11ec_aff5_dcf5059dd1aarow6_col2 {\n",
       "            background-color:  #8badfd;\n",
       "            color:  #000000;\n",
       "        }    #T_2dd11f8a_3221_11ec_aff5_dcf5059dd1aarow6_col3 {\n",
       "            background-color:  #bfd3f6;\n",
       "            color:  #000000;\n",
       "        }    #T_2dd11f8a_3221_11ec_aff5_dcf5059dd1aarow6_col4 {\n",
       "            background-color:  #c9d7f0;\n",
       "            color:  #000000;\n",
       "        }    #T_2dd11f8a_3221_11ec_aff5_dcf5059dd1aarow6_col5 {\n",
       "            background-color:  #5875e1;\n",
       "            color:  #000000;\n",
       "        }    #T_2dd11f8a_3221_11ec_aff5_dcf5059dd1aarow6_col6 {\n",
       "            background-color:  #b40426;\n",
       "            color:  #f1f1f1;\n",
       "        }    #T_2dd11f8a_3221_11ec_aff5_dcf5059dd1aarow6_col7 {\n",
       "            background-color:  #a5c3fe;\n",
       "            color:  #000000;\n",
       "        }    #T_2dd11f8a_3221_11ec_aff5_dcf5059dd1aarow6_col8 {\n",
       "            background-color:  #cbd8ee;\n",
       "            color:  #000000;\n",
       "        }    #T_2dd11f8a_3221_11ec_aff5_dcf5059dd1aarow6_col9 {\n",
       "            background-color:  #ccd9ed;\n",
       "            color:  #000000;\n",
       "        }    #T_2dd11f8a_3221_11ec_aff5_dcf5059dd1aarow7_col0 {\n",
       "            background-color:  #3b4cc0;\n",
       "            color:  #f1f1f1;\n",
       "        }    #T_2dd11f8a_3221_11ec_aff5_dcf5059dd1aarow7_col1 {\n",
       "            background-color:  #3b4cc0;\n",
       "            color:  #f1f1f1;\n",
       "        }    #T_2dd11f8a_3221_11ec_aff5_dcf5059dd1aarow7_col2 {\n",
       "            background-color:  #c7d7f0;\n",
       "            color:  #000000;\n",
       "        }    #T_2dd11f8a_3221_11ec_aff5_dcf5059dd1aarow7_col3 {\n",
       "            background-color:  #f39778;\n",
       "            color:  #000000;\n",
       "        }    #T_2dd11f8a_3221_11ec_aff5_dcf5059dd1aarow7_col4 {\n",
       "            background-color:  #7da0f9;\n",
       "            color:  #000000;\n",
       "        }    #T_2dd11f8a_3221_11ec_aff5_dcf5059dd1aarow7_col5 {\n",
       "            background-color:  #92b4fe;\n",
       "            color:  #000000;\n",
       "        }    #T_2dd11f8a_3221_11ec_aff5_dcf5059dd1aarow7_col6 {\n",
       "            background-color:  #3b4cc0;\n",
       "            color:  #f1f1f1;\n",
       "        }    #T_2dd11f8a_3221_11ec_aff5_dcf5059dd1aarow7_col7 {\n",
       "            background-color:  #b40426;\n",
       "            color:  #f1f1f1;\n",
       "        }    #T_2dd11f8a_3221_11ec_aff5_dcf5059dd1aarow7_col8 {\n",
       "            background-color:  #3b4cc0;\n",
       "            color:  #f1f1f1;\n",
       "        }    #T_2dd11f8a_3221_11ec_aff5_dcf5059dd1aarow7_col9 {\n",
       "            background-color:  #6282ea;\n",
       "            color:  #000000;\n",
       "        }    #T_2dd11f8a_3221_11ec_aff5_dcf5059dd1aarow8_col0 {\n",
       "            background-color:  #e5d8d1;\n",
       "            color:  #000000;\n",
       "        }    #T_2dd11f8a_3221_11ec_aff5_dcf5059dd1aarow8_col1 {\n",
       "            background-color:  #4055c8;\n",
       "            color:  #f1f1f1;\n",
       "        }    #T_2dd11f8a_3221_11ec_aff5_dcf5059dd1aarow8_col2 {\n",
       "            background-color:  #93b5fe;\n",
       "            color:  #000000;\n",
       "        }    #T_2dd11f8a_3221_11ec_aff5_dcf5059dd1aarow8_col3 {\n",
       "            background-color:  #5b7ae5;\n",
       "            color:  #000000;\n",
       "        }    #T_2dd11f8a_3221_11ec_aff5_dcf5059dd1aarow8_col4 {\n",
       "            background-color:  #b9d0f9;\n",
       "            color:  #000000;\n",
       "        }    #T_2dd11f8a_3221_11ec_aff5_dcf5059dd1aarow8_col5 {\n",
       "            background-color:  #3b4cc0;\n",
       "            color:  #f1f1f1;\n",
       "        }    #T_2dd11f8a_3221_11ec_aff5_dcf5059dd1aarow8_col6 {\n",
       "            background-color:  #7295f4;\n",
       "            color:  #000000;\n",
       "        }    #T_2dd11f8a_3221_11ec_aff5_dcf5059dd1aarow8_col7 {\n",
       "            background-color:  #3b4cc0;\n",
       "            color:  #f1f1f1;\n",
       "        }    #T_2dd11f8a_3221_11ec_aff5_dcf5059dd1aarow8_col8 {\n",
       "            background-color:  #b40426;\n",
       "            color:  #f1f1f1;\n",
       "        }    #T_2dd11f8a_3221_11ec_aff5_dcf5059dd1aarow8_col9 {\n",
       "            background-color:  #f7a98b;\n",
       "            color:  #000000;\n",
       "        }    #T_2dd11f8a_3221_11ec_aff5_dcf5059dd1aarow9_col0 {\n",
       "            background-color:  #d7dce3;\n",
       "            color:  #000000;\n",
       "        }    #T_2dd11f8a_3221_11ec_aff5_dcf5059dd1aarow9_col1 {\n",
       "            background-color:  #4055c8;\n",
       "            color:  #f1f1f1;\n",
       "        }    #T_2dd11f8a_3221_11ec_aff5_dcf5059dd1aarow9_col2 {\n",
       "            background-color:  #96b7ff;\n",
       "            color:  #000000;\n",
       "        }    #T_2dd11f8a_3221_11ec_aff5_dcf5059dd1aarow9_col3 {\n",
       "            background-color:  #3b4cc0;\n",
       "            color:  #f1f1f1;\n",
       "        }    #T_2dd11f8a_3221_11ec_aff5_dcf5059dd1aarow9_col4 {\n",
       "            background-color:  #bbd1f8;\n",
       "            color:  #000000;\n",
       "        }    #T_2dd11f8a_3221_11ec_aff5_dcf5059dd1aarow9_col5 {\n",
       "            background-color:  #4c66d6;\n",
       "            color:  #000000;\n",
       "        }    #T_2dd11f8a_3221_11ec_aff5_dcf5059dd1aarow9_col6 {\n",
       "            background-color:  #6b8df0;\n",
       "            color:  #000000;\n",
       "        }    #T_2dd11f8a_3221_11ec_aff5_dcf5059dd1aarow9_col7 {\n",
       "            background-color:  #5a78e4;\n",
       "            color:  #000000;\n",
       "        }    #T_2dd11f8a_3221_11ec_aff5_dcf5059dd1aarow9_col8 {\n",
       "            background-color:  #f7ac8e;\n",
       "            color:  #000000;\n",
       "        }    #T_2dd11f8a_3221_11ec_aff5_dcf5059dd1aarow9_col9 {\n",
       "            background-color:  #b40426;\n",
       "            color:  #f1f1f1;\n",
       "        }</style><table id=\"T_2dd11f8a_3221_11ec_aff5_dcf5059dd1aa\" ><thead>    <tr>        <th class=\"blank level0\" ></th>        <th class=\"col_heading level0 col0\" >Plural</th>        <th class=\"col_heading level0 col1\" >Sex</th>        <th class=\"col_heading level0 col2\" >Mom Age</th>        <th class=\"col_heading level0 col3\" >Weeks</th>        <th class=\"col_heading level0 col4\" >Marital</th>        <th class=\"col_heading level0 col5\" >Weight Gained</th>        <th class=\"col_heading level0 col6\" >Smoke</th>        <th class=\"col_heading level0 col7\" >BirthWeightOz</th>        <th class=\"col_heading level0 col8\" >Low</th>        <th class=\"col_heading level0 col9\" >Premie</th>    </tr></thead><tbody>\n",
       "                <tr>\n",
       "                        <th id=\"T_2dd11f8a_3221_11ec_aff5_dcf5059dd1aalevel0_row0\" class=\"row_heading level0 row0\" >Plural</th>\n",
       "                        <td id=\"T_2dd11f8a_3221_11ec_aff5_dcf5059dd1aarow0_col0\" class=\"data row0 col0\" >1</td>\n",
       "                        <td id=\"T_2dd11f8a_3221_11ec_aff5_dcf5059dd1aarow0_col1\" class=\"data row0 col1\" >-0.0066</td>\n",
       "                        <td id=\"T_2dd11f8a_3221_11ec_aff5_dcf5059dd1aarow0_col2\" class=\"data row0 col2\" >0.08</td>\n",
       "                        <td id=\"T_2dd11f8a_3221_11ec_aff5_dcf5059dd1aarow0_col3\" class=\"data row0 col3\" >-0.33</td>\n",
       "                        <td id=\"T_2dd11f8a_3221_11ec_aff5_dcf5059dd1aarow0_col4\" class=\"data row0 col4\" >-0.034</td>\n",
       "                        <td id=\"T_2dd11f8a_3221_11ec_aff5_dcf5059dd1aarow0_col5\" class=\"data row0 col5\" >0.094</td>\n",
       "                        <td id=\"T_2dd11f8a_3221_11ec_aff5_dcf5059dd1aarow0_col6\" class=\"data row0 col6\" >-0.054</td>\n",
       "                        <td id=\"T_2dd11f8a_3221_11ec_aff5_dcf5059dd1aarow0_col7\" class=\"data row0 col7\" >-0.34</td>\n",
       "                        <td id=\"T_2dd11f8a_3221_11ec_aff5_dcf5059dd1aarow0_col8\" class=\"data row0 col8\" >0.38</td>\n",
       "                        <td id=\"T_2dd11f8a_3221_11ec_aff5_dcf5059dd1aarow0_col9\" class=\"data row0 col9\" >0.3</td>\n",
       "            </tr>\n",
       "            <tr>\n",
       "                        <th id=\"T_2dd11f8a_3221_11ec_aff5_dcf5059dd1aalevel0_row1\" class=\"row_heading level0 row1\" >Sex</th>\n",
       "                        <td id=\"T_2dd11f8a_3221_11ec_aff5_dcf5059dd1aarow1_col0\" class=\"data row1 col0\" >-0.0066</td>\n",
       "                        <td id=\"T_2dd11f8a_3221_11ec_aff5_dcf5059dd1aarow1_col1\" class=\"data row1 col1\" >1</td>\n",
       "                        <td id=\"T_2dd11f8a_3221_11ec_aff5_dcf5059dd1aarow1_col2\" class=\"data row1 col2\" >0.019</td>\n",
       "                        <td id=\"T_2dd11f8a_3221_11ec_aff5_dcf5059dd1aarow1_col3\" class=\"data row1 col3\" >0.051</td>\n",
       "                        <td id=\"T_2dd11f8a_3221_11ec_aff5_dcf5059dd1aarow1_col4\" class=\"data row1 col4\" >-0.011</td>\n",
       "                        <td id=\"T_2dd11f8a_3221_11ec_aff5_dcf5059dd1aarow1_col5\" class=\"data row1 col5\" >-0.0084</td>\n",
       "                        <td id=\"T_2dd11f8a_3221_11ec_aff5_dcf5059dd1aarow1_col6\" class=\"data row1 col6\" >-0.007</td>\n",
       "                        <td id=\"T_2dd11f8a_3221_11ec_aff5_dcf5059dd1aarow1_col7\" class=\"data row1 col7\" >-0.048</td>\n",
       "                        <td id=\"T_2dd11f8a_3221_11ec_aff5_dcf5059dd1aarow1_col8\" class=\"data row1 col8\" >-0.027</td>\n",
       "                        <td id=\"T_2dd11f8a_3221_11ec_aff5_dcf5059dd1aarow1_col9\" class=\"data row1 col9\" >-0.028</td>\n",
       "            </tr>\n",
       "            <tr>\n",
       "                        <th id=\"T_2dd11f8a_3221_11ec_aff5_dcf5059dd1aalevel0_row2\" class=\"row_heading level0 row2\" >Mom Age</th>\n",
       "                        <td id=\"T_2dd11f8a_3221_11ec_aff5_dcf5059dd1aarow2_col0\" class=\"data row2 col0\" >0.08</td>\n",
       "                        <td id=\"T_2dd11f8a_3221_11ec_aff5_dcf5059dd1aarow2_col1\" class=\"data row2 col1\" >0.019</td>\n",
       "                        <td id=\"T_2dd11f8a_3221_11ec_aff5_dcf5059dd1aarow2_col2\" class=\"data row2 col2\" >1</td>\n",
       "                        <td id=\"T_2dd11f8a_3221_11ec_aff5_dcf5059dd1aarow2_col3\" class=\"data row2 col3\" >0.037</td>\n",
       "                        <td id=\"T_2dd11f8a_3221_11ec_aff5_dcf5059dd1aarow2_col4\" class=\"data row2 col4\" >-0.47</td>\n",
       "                        <td id=\"T_2dd11f8a_3221_11ec_aff5_dcf5059dd1aarow2_col5\" class=\"data row2 col5\" >0.01</td>\n",
       "                        <td id=\"T_2dd11f8a_3221_11ec_aff5_dcf5059dd1aarow2_col6\" class=\"data row2 col6\" >-0.11</td>\n",
       "                        <td id=\"T_2dd11f8a_3221_11ec_aff5_dcf5059dd1aarow2_col7\" class=\"data row2 col7\" >0.15</td>\n",
       "                        <td id=\"T_2dd11f8a_3221_11ec_aff5_dcf5059dd1aarow2_col8\" class=\"data row2 col8\" >-0.071</td>\n",
       "                        <td id=\"T_2dd11f8a_3221_11ec_aff5_dcf5059dd1aarow2_col9\" class=\"data row2 col9\" >-0.063</td>\n",
       "            </tr>\n",
       "            <tr>\n",
       "                        <th id=\"T_2dd11f8a_3221_11ec_aff5_dcf5059dd1aalevel0_row3\" class=\"row_heading level0 row3\" >Weeks</th>\n",
       "                        <td id=\"T_2dd11f8a_3221_11ec_aff5_dcf5059dd1aarow3_col0\" class=\"data row3 col0\" >-0.33</td>\n",
       "                        <td id=\"T_2dd11f8a_3221_11ec_aff5_dcf5059dd1aarow3_col1\" class=\"data row3 col1\" >0.051</td>\n",
       "                        <td id=\"T_2dd11f8a_3221_11ec_aff5_dcf5059dd1aarow3_col2\" class=\"data row3 col2\" >0.037</td>\n",
       "                        <td id=\"T_2dd11f8a_3221_11ec_aff5_dcf5059dd1aarow3_col3\" class=\"data row3 col3\" >1</td>\n",
       "                        <td id=\"T_2dd11f8a_3221_11ec_aff5_dcf5059dd1aarow3_col4\" class=\"data row3 col4\" >-0.064</td>\n",
       "                        <td id=\"T_2dd11f8a_3221_11ec_aff5_dcf5059dd1aarow3_col5\" class=\"data row3 col5\" >0.06</td>\n",
       "                        <td id=\"T_2dd11f8a_3221_11ec_aff5_dcf5059dd1aarow3_col6\" class=\"data row3 col6\" >-0.032</td>\n",
       "                        <td id=\"T_2dd11f8a_3221_11ec_aff5_dcf5059dd1aarow3_col7\" class=\"data row3 col7\" >0.59</td>\n",
       "                        <td id=\"T_2dd11f8a_3221_11ec_aff5_dcf5059dd1aarow3_col8\" class=\"data row3 col8\" >-0.53</td>\n",
       "                        <td id=\"T_2dd11f8a_3221_11ec_aff5_dcf5059dd1aarow3_col9\" class=\"data row3 col9\" >-0.71</td>\n",
       "            </tr>\n",
       "            <tr>\n",
       "                        <th id=\"T_2dd11f8a_3221_11ec_aff5_dcf5059dd1aalevel0_row4\" class=\"row_heading level0 row4\" >Marital</th>\n",
       "                        <td id=\"T_2dd11f8a_3221_11ec_aff5_dcf5059dd1aarow4_col0\" class=\"data row4 col0\" >-0.034</td>\n",
       "                        <td id=\"T_2dd11f8a_3221_11ec_aff5_dcf5059dd1aarow4_col1\" class=\"data row4 col1\" >-0.011</td>\n",
       "                        <td id=\"T_2dd11f8a_3221_11ec_aff5_dcf5059dd1aarow4_col2\" class=\"data row4 col2\" >-0.47</td>\n",
       "                        <td id=\"T_2dd11f8a_3221_11ec_aff5_dcf5059dd1aarow4_col3\" class=\"data row4 col3\" >-0.064</td>\n",
       "                        <td id=\"T_2dd11f8a_3221_11ec_aff5_dcf5059dd1aarow4_col4\" class=\"data row4 col4\" >1</td>\n",
       "                        <td id=\"T_2dd11f8a_3221_11ec_aff5_dcf5059dd1aarow4_col5\" class=\"data row4 col5\" >-0.031</td>\n",
       "                        <td id=\"T_2dd11f8a_3221_11ec_aff5_dcf5059dd1aarow4_col6\" class=\"data row4 col6\" >0.16</td>\n",
       "                        <td id=\"T_2dd11f8a_3221_11ec_aff5_dcf5059dd1aarow4_col7\" class=\"data row4 col7\" >-0.17</td>\n",
       "                        <td id=\"T_2dd11f8a_3221_11ec_aff5_dcf5059dd1aarow4_col8\" class=\"data row4 col8\" >0.086</td>\n",
       "                        <td id=\"T_2dd11f8a_3221_11ec_aff5_dcf5059dd1aarow4_col9\" class=\"data row4 col9\" >0.096</td>\n",
       "            </tr>\n",
       "            <tr>\n",
       "                        <th id=\"T_2dd11f8a_3221_11ec_aff5_dcf5059dd1aalevel0_row5\" class=\"row_heading level0 row5\" >Weight Gained</th>\n",
       "                        <td id=\"T_2dd11f8a_3221_11ec_aff5_dcf5059dd1aarow5_col0\" class=\"data row5 col0\" >0.094</td>\n",
       "                        <td id=\"T_2dd11f8a_3221_11ec_aff5_dcf5059dd1aarow5_col1\" class=\"data row5 col1\" >-0.0084</td>\n",
       "                        <td id=\"T_2dd11f8a_3221_11ec_aff5_dcf5059dd1aarow5_col2\" class=\"data row5 col2\" >0.01</td>\n",
       "                        <td id=\"T_2dd11f8a_3221_11ec_aff5_dcf5059dd1aarow5_col3\" class=\"data row5 col3\" >0.06</td>\n",
       "                        <td id=\"T_2dd11f8a_3221_11ec_aff5_dcf5059dd1aarow5_col4\" class=\"data row5 col4\" >-0.031</td>\n",
       "                        <td id=\"T_2dd11f8a_3221_11ec_aff5_dcf5059dd1aarow5_col5\" class=\"data row5 col5\" >1</td>\n",
       "                        <td id=\"T_2dd11f8a_3221_11ec_aff5_dcf5059dd1aarow5_col6\" class=\"data row5 col6\" >0.003</td>\n",
       "                        <td id=\"T_2dd11f8a_3221_11ec_aff5_dcf5059dd1aarow5_col7\" class=\"data row5 col7\" >0.19</td>\n",
       "                        <td id=\"T_2dd11f8a_3221_11ec_aff5_dcf5059dd1aarow5_col8\" class=\"data row5 col8\" >-0.1</td>\n",
       "                        <td id=\"T_2dd11f8a_3221_11ec_aff5_dcf5059dd1aarow5_col9\" class=\"data row5 col9\" >-0.034</td>\n",
       "            </tr>\n",
       "            <tr>\n",
       "                        <th id=\"T_2dd11f8a_3221_11ec_aff5_dcf5059dd1aalevel0_row6\" class=\"row_heading level0 row6\" >Smoke</th>\n",
       "                        <td id=\"T_2dd11f8a_3221_11ec_aff5_dcf5059dd1aarow6_col0\" class=\"data row6 col0\" >-0.054</td>\n",
       "                        <td id=\"T_2dd11f8a_3221_11ec_aff5_dcf5059dd1aarow6_col1\" class=\"data row6 col1\" >-0.007</td>\n",
       "                        <td id=\"T_2dd11f8a_3221_11ec_aff5_dcf5059dd1aarow6_col2\" class=\"data row6 col2\" >-0.11</td>\n",
       "                        <td id=\"T_2dd11f8a_3221_11ec_aff5_dcf5059dd1aarow6_col3\" class=\"data row6 col3\" >-0.032</td>\n",
       "                        <td id=\"T_2dd11f8a_3221_11ec_aff5_dcf5059dd1aarow6_col4\" class=\"data row6 col4\" >0.16</td>\n",
       "                        <td id=\"T_2dd11f8a_3221_11ec_aff5_dcf5059dd1aarow6_col5\" class=\"data row6 col5\" >0.003</td>\n",
       "                        <td id=\"T_2dd11f8a_3221_11ec_aff5_dcf5059dd1aarow6_col6\" class=\"data row6 col6\" >1</td>\n",
       "                        <td id=\"T_2dd11f8a_3221_11ec_aff5_dcf5059dd1aarow6_col7\" class=\"data row6 col7\" >-0.13</td>\n",
       "                        <td id=\"T_2dd11f8a_3221_11ec_aff5_dcf5059dd1aarow6_col8\" class=\"data row6 col8\" >0.062</td>\n",
       "                        <td id=\"T_2dd11f8a_3221_11ec_aff5_dcf5059dd1aarow6_col9\" class=\"data row6 col9\" >0.039</td>\n",
       "            </tr>\n",
       "            <tr>\n",
       "                        <th id=\"T_2dd11f8a_3221_11ec_aff5_dcf5059dd1aalevel0_row7\" class=\"row_heading level0 row7\" >BirthWeightOz</th>\n",
       "                        <td id=\"T_2dd11f8a_3221_11ec_aff5_dcf5059dd1aarow7_col0\" class=\"data row7 col0\" >-0.34</td>\n",
       "                        <td id=\"T_2dd11f8a_3221_11ec_aff5_dcf5059dd1aarow7_col1\" class=\"data row7 col1\" >-0.048</td>\n",
       "                        <td id=\"T_2dd11f8a_3221_11ec_aff5_dcf5059dd1aarow7_col2\" class=\"data row7 col2\" >0.15</td>\n",
       "                        <td id=\"T_2dd11f8a_3221_11ec_aff5_dcf5059dd1aarow7_col3\" class=\"data row7 col3\" >0.59</td>\n",
       "                        <td id=\"T_2dd11f8a_3221_11ec_aff5_dcf5059dd1aarow7_col4\" class=\"data row7 col4\" >-0.17</td>\n",
       "                        <td id=\"T_2dd11f8a_3221_11ec_aff5_dcf5059dd1aarow7_col5\" class=\"data row7 col5\" >0.19</td>\n",
       "                        <td id=\"T_2dd11f8a_3221_11ec_aff5_dcf5059dd1aarow7_col6\" class=\"data row7 col6\" >-0.13</td>\n",
       "                        <td id=\"T_2dd11f8a_3221_11ec_aff5_dcf5059dd1aarow7_col7\" class=\"data row7 col7\" >1</td>\n",
       "                        <td id=\"T_2dd11f8a_3221_11ec_aff5_dcf5059dd1aarow7_col8\" class=\"data row7 col8\" >-0.67</td>\n",
       "                        <td id=\"T_2dd11f8a_3221_11ec_aff5_dcf5059dd1aarow7_col9\" class=\"data row7 col9\" >-0.5</td>\n",
       "            </tr>\n",
       "            <tr>\n",
       "                        <th id=\"T_2dd11f8a_3221_11ec_aff5_dcf5059dd1aalevel0_row8\" class=\"row_heading level0 row8\" >Low</th>\n",
       "                        <td id=\"T_2dd11f8a_3221_11ec_aff5_dcf5059dd1aarow8_col0\" class=\"data row8 col0\" >0.38</td>\n",
       "                        <td id=\"T_2dd11f8a_3221_11ec_aff5_dcf5059dd1aarow8_col1\" class=\"data row8 col1\" >-0.027</td>\n",
       "                        <td id=\"T_2dd11f8a_3221_11ec_aff5_dcf5059dd1aarow8_col2\" class=\"data row8 col2\" >-0.071</td>\n",
       "                        <td id=\"T_2dd11f8a_3221_11ec_aff5_dcf5059dd1aarow8_col3\" class=\"data row8 col3\" >-0.53</td>\n",
       "                        <td id=\"T_2dd11f8a_3221_11ec_aff5_dcf5059dd1aarow8_col4\" class=\"data row8 col4\" >0.086</td>\n",
       "                        <td id=\"T_2dd11f8a_3221_11ec_aff5_dcf5059dd1aarow8_col5\" class=\"data row8 col5\" >-0.1</td>\n",
       "                        <td id=\"T_2dd11f8a_3221_11ec_aff5_dcf5059dd1aarow8_col6\" class=\"data row8 col6\" >0.062</td>\n",
       "                        <td id=\"T_2dd11f8a_3221_11ec_aff5_dcf5059dd1aarow8_col7\" class=\"data row8 col7\" >-0.67</td>\n",
       "                        <td id=\"T_2dd11f8a_3221_11ec_aff5_dcf5059dd1aarow8_col8\" class=\"data row8 col8\" >1</td>\n",
       "                        <td id=\"T_2dd11f8a_3221_11ec_aff5_dcf5059dd1aarow8_col9\" class=\"data row8 col9\" >0.5</td>\n",
       "            </tr>\n",
       "            <tr>\n",
       "                        <th id=\"T_2dd11f8a_3221_11ec_aff5_dcf5059dd1aalevel0_row9\" class=\"row_heading level0 row9\" >Premie</th>\n",
       "                        <td id=\"T_2dd11f8a_3221_11ec_aff5_dcf5059dd1aarow9_col0\" class=\"data row9 col0\" >0.3</td>\n",
       "                        <td id=\"T_2dd11f8a_3221_11ec_aff5_dcf5059dd1aarow9_col1\" class=\"data row9 col1\" >-0.028</td>\n",
       "                        <td id=\"T_2dd11f8a_3221_11ec_aff5_dcf5059dd1aarow9_col2\" class=\"data row9 col2\" >-0.063</td>\n",
       "                        <td id=\"T_2dd11f8a_3221_11ec_aff5_dcf5059dd1aarow9_col3\" class=\"data row9 col3\" >-0.71</td>\n",
       "                        <td id=\"T_2dd11f8a_3221_11ec_aff5_dcf5059dd1aarow9_col4\" class=\"data row9 col4\" >0.096</td>\n",
       "                        <td id=\"T_2dd11f8a_3221_11ec_aff5_dcf5059dd1aarow9_col5\" class=\"data row9 col5\" >-0.034</td>\n",
       "                        <td id=\"T_2dd11f8a_3221_11ec_aff5_dcf5059dd1aarow9_col6\" class=\"data row9 col6\" >0.039</td>\n",
       "                        <td id=\"T_2dd11f8a_3221_11ec_aff5_dcf5059dd1aarow9_col7\" class=\"data row9 col7\" >-0.5</td>\n",
       "                        <td id=\"T_2dd11f8a_3221_11ec_aff5_dcf5059dd1aarow9_col8\" class=\"data row9 col8\" >0.5</td>\n",
       "                        <td id=\"T_2dd11f8a_3221_11ec_aff5_dcf5059dd1aarow9_col9\" class=\"data row9 col9\" >1</td>\n",
       "            </tr>\n",
       "    </tbody></table>"
      ],
      "text/plain": [
       "<pandas.io.formats.style.Styler at 0x15ec7b23eb8>"
      ]
     },
     "execution_count": 27,
     "metadata": {},
     "output_type": "execute_result"
    }
   ],
   "source": [
    "#Run correlation metrics\n",
    "data.corr().style.background_gradient(cmap='coolwarm').set_precision(2)"
   ]
  },
  {
   "cell_type": "code",
   "execution_count": 28,
   "metadata": {},
   "outputs": [
    {
     "data": {
      "text/plain": [
       "<matplotlib.axes._subplots.AxesSubplot at 0x15ec7f8a2b0>"
      ]
     },
     "execution_count": 28,
     "metadata": {},
     "output_type": "execute_result"
    },
    {
     "data": {
      "image/png": "[encoded data removed]",
      "text/plain": [
       "<Figure size 432x288 with 1 Axes>"
      ]
     },
     "metadata": {},
     "output_type": "display_data"
    }
   ],
   "source": [
    "#Distribution plot of y variable\n",
    "sn.histplot(data['BirthWeightOz'])"
   ]
  },
  {
   "cell_type": "code",
   "execution_count": 29,
   "metadata": {},
   "outputs": [
    {
     "data": {
      "text/plain": [
       "<Figure size 432x288 with 0 Axes>"
      ]
     },
     "metadata": {},
     "output_type": "display_data"
    },
    {
     "data": {
      "image/png": "[encoded data removed]",
      "text/plain": [
       "<Figure size 720x576 with 1 Axes>"
      ]
     },
     "metadata": {},
     "output_type": "display_data"
    },
    {
     "data": {
      "text/plain": [
       "<Figure size 432x288 with 0 Axes>"
      ]
     },
     "metadata": {},
     "output_type": "display_data"
    },
    {
     "data": {
      "image/png": "[encoded data removed]",
      "text/plain": [
       "<Figure size 720x576 with 1 Axes>"
      ]
     },
     "metadata": {},
     "output_type": "display_data"
    },
    {
     "data": {
      "text/plain": [
       "<Figure size 432x288 with 0 Axes>"
      ]
     },
     "metadata": {},
     "output_type": "display_data"
    },
    {
     "data": {
      "image/png": "[encoded data removed]",
      "text/plain": [
       "<Figure size 720x576 with 1 Axes>"
      ]
     },
     "metadata": {},
     "output_type": "display_data"
    }
   ],
   "source": [
    "#Run scatter plots to see linear relationship between variables and birth weight and save all charts as a pdf\n",
    "pdf = matplotlib.backends.backend_pdf.PdfPages(\"scatterplots.pdf\")\n",
    "\n",
    "scatter_columns = ['Mom Age', 'Weight Gained', 'Weeks']\n",
    "\n",
    "for i in scatter_columns:\n",
    "    plot2 = plt.figure()\n",
    "    plt.figure(figsize=(10,8))\n",
    "    plt.title(\"Effect of {} on Birth Weight\".format(i))\n",
    "    plt.xlabel(i)\n",
    "    plt.ylabel('Birth Weight')\n",
    "    plt.scatter(data[i], data['BirthWeightOz'])\n",
    "    pdf.savefig(plot2)\n",
    "    \n",
    "pdf.close()"
   ]
  },
  {
   "cell_type": "code",
   "execution_count": 30,
   "metadata": {},
   "outputs": [
    {
     "data": {
      "image/png": "[encoded data removed]",
      "text/plain": [
       "<Figure size 432x288 with 1 Axes>"
      ]
     },
     "metadata": {},
     "output_type": "display_data"
    },
    {
     "data": {
      "image/png": "[encoded data removed]",
      "text/plain": [
       "<Figure size 432x288 with 1 Axes>"
      ]
     },
     "metadata": {},
     "output_type": "display_data"
    },
    {
     "data": {
      "image/png": "[encoded data removed]",
      "text/plain": [
       "<Figure size 432x288 with 1 Axes>"
      ]
     },
     "metadata": {},
     "output_type": "display_data"
    }
   ],
   "source": [
    "#Show boxplots of categorical columns\n",
    "cat_columns = ['Sex_category','Marital_category', 'Smoke_category']\n",
    "for i in cat_columns: \n",
    "    ax = sn.boxplot(x=i, y='BirthWeightOz', data=data)\n",
    "    ax.set_title(f'Effect of {i.split(\"_\", 1)[0]} on birth rate')\n",
    "    ax.set_ylabel('Birth Weight')\n",
    "    ax.set_xlabel(i.split(\"_\", 1)[0])\n",
    "    plt.show()"
   ]
  },
  {
   "cell_type": "markdown",
   "metadata": {},
   "source": [
    "### Regression Modelling"
   ]
  },
  {
   "cell_type": "markdown",
   "metadata": {},
   "source": [
    "##### Model Setup"
   ]
  },
  {
   "cell_type": "code",
   "execution_count": 31,
   "metadata": {},
   "outputs": [],
   "source": [
    "import statsmodels.api as sm\n",
    "from statsmodels.stats.outliers_influence import variance_inflation_factor"
   ]
  },
  {
   "cell_type": "code",
   "execution_count": 32,
   "metadata": {},
   "outputs": [],
   "source": [
    "#Create a function to create the input x and y data for the model\n",
    "def create_x_y(df, x_columns, y_column, variable_drop_cat_dict):\n",
    "    drop_columns = [key + '_' + value for key, value in variable_drop_cat_dict.items()]\n",
    "    x = df.copy()\n",
    "    x = x[x_columns]\n",
    "    x = pd.get_dummies(x, columns=variable_drop_cat_dict.keys())\n",
    "    \n",
    "    x = x.drop(drop_columns, axis=1)\n",
    "    x = sm.add_constant(x)\n",
    "    \n",
    "    y = df.copy()\n",
    "    y = y[[y_column]]\n",
    "    \n",
    "    return x, y"
   ]
  },
  {
   "cell_type": "code",
   "execution_count": 33,
   "metadata": {},
   "outputs": [],
   "source": [
    "#define function to get prediction -- need to exponentiate if logged\n",
    "def get_predictions(coeffs, x_population):\n",
    "    x_population['Id'] = np.arange(len(x_population))\n",
    "    column_list = list(x_population.columns)\n",
    "    column_list.remove('Id')\n",
    "    x_df = pd.melt(x_population, id_vars=['Id'], value_vars=column_list)\n",
    "    x_df = pd.merge(x_df, coeffs, left_on='variable', right_on = 'Variable', how='left')\n",
    "    x_df['value'].fillna(0, inplace=True)\n",
    "    \n",
    "    x_df['Prediction Components'] = x_df['Coefficient']*x_df['value']\n",
    "    predictions_df = x_df.groupby('Id')['Prediction Components'].sum().reset_index()\n",
    "    predictions_df.rename(columns={'Prediction Components':'Prediction'}, inplace=True)\n",
    "    predictions_df.drop('Id', axis=1, inplace=True)\n",
    "    x_population.drop('Id', axis=1, inplace=True)\n",
    "    return predictions_df"
   ]
  },
  {
   "cell_type": "code",
   "execution_count": 34,
   "metadata": {},
   "outputs": [],
   "source": [
    "#create function to calculate r2 for any linear regression model\n",
    "def get_r2(df, y_true, y_pred):\n",
    "    df['Squared Differences'] = (df[y_true] - df[y_pred])**2\n",
    "    \n",
    "    ymean = df[y_true].mean()\n",
    "    df['ymean'] = ymean\n",
    "    \n",
    "    df['Total Variability'] = (df[y_true] - df['ymean'])**2\n",
    "    \n",
    "    r2 = (df['Total Variability'].sum() - df['Squared Differences'].sum())/df['Total Variability'].sum()\n",
    "    return r2"
   ]
  },
  {
   "cell_type": "code",
   "execution_count": 35,
   "metadata": {},
   "outputs": [],
   "source": [
    "#Calculate metrics for Regression Model\n",
    "def regression_metrics(df, y_true, y_pred): \n",
    "    mse = sum(((df[y_true] - df[y_pred]) ** 2))/len(df)\n",
    "    rmse = np.sqrt(np.mean((df[y_true] - df[y_pred]) ** 2))\n",
    "    r2 = get_r2(df, y_true, y_pred)\n",
    "    mae = sum(abs(df[y_true] - df[y_pred]))/len(df)\n",
    "    metrics_df = pd.DataFrame({'MSE': mse,\n",
    "                               'RMSE': rmse,\n",
    "                               'R2':r2,\n",
    "                               'MAE':mae}, index=[1])\n",
    "    \n",
    "    return metrics_df"
   ]
  },
  {
   "cell_type": "code",
   "execution_count": 36,
   "metadata": {},
   "outputs": [],
   "source": [
    "#Create Squared term for weeks\n",
    "data['Weeks Squared'] = data['Weeks'] ** 2"
   ]
  },
  {
   "cell_type": "code",
   "execution_count": 37,
   "metadata": {},
   "outputs": [
    {
     "name": "stderr",
     "output_type": "stream",
     "text": [
      "C:\\Users\\nickp\\AppData\\Local\\Continuum\\anaconda3\\lib\\site-packages\\numpy\\core\\fromnumeric.py:2389: FutureWarning: Method .ptp is deprecated and will be removed in a future version. Use numpy.ptp instead.\n",
      "  return ptp(axis=axis, out=out, **kwargs)\n"
     ]
    }
   ],
   "source": [
    "#Lists for splitting data into x and y sets\n",
    "\n",
    "x_variables = ['Sex_category', 'Marital_category', 'Smoke_category', 'Weeks', 'Weight Gained']\n",
    "y_variable = 'BirthWeightOz'\n",
    "\n",
    "cat_variable_dict_drop_categories = {'Sex_category': 'male',\n",
    "                                     'Marital_category': 'not married',  \n",
    "                                     'Smoke_category': 'no'}\n",
    "\n",
    "#Run function to get x and y split\n",
    "x, y = create_x_y(data, x_variables, y_variable, cat_variable_dict_drop_categories)"
   ]
  },
  {
   "cell_type": "markdown",
   "metadata": {},
   "source": [
    "##### Run Models"
   ]
  },
  {
   "cell_type": "code",
   "execution_count": 38,
   "metadata": {},
   "outputs": [
    {
     "data": {
      "text/html": [
       "<table class=\"simpletable\">\n",
       "<caption>OLS Regression Results</caption>\n",
       "<tr>\n",
       "  <th>Dep. Variable:</th>      <td>BirthWeightOz</td>  <th>  R-squared:         </th> <td>   0.480</td> \n",
       "</tr>\n",
       "<tr>\n",
       "  <th>Model:</th>                   <td>OLS</td>       <th>  Adj. R-squared:    </th> <td>   0.478</td> \n",
       "</tr>\n",
       "<tr>\n",
       "  <th>Method:</th>             <td>Least Squares</td>  <th>  F-statistic:       </th> <td>   259.3</td> \n",
       "</tr>\n",
       "<tr>\n",
       "  <th>Date:</th>             <td>Wed, 20 Oct 2021</td> <th>  Prob (F-statistic):</th> <td>1.86e-196</td>\n",
       "</tr>\n",
       "<tr>\n",
       "  <th>Time:</th>                 <td>20:44:24</td>     <th>  Log-Likelihood:    </th> <td>  397.27</td> \n",
       "</tr>\n",
       "<tr>\n",
       "  <th>No. Observations:</th>      <td>  1409</td>      <th>  AIC:               </th> <td>  -782.5</td> \n",
       "</tr>\n",
       "<tr>\n",
       "  <th>Df Residuals:</th>          <td>  1403</td>      <th>  BIC:               </th> <td>  -751.0</td> \n",
       "</tr>\n",
       "<tr>\n",
       "  <th>Df Model:</th>              <td>     5</td>      <th>                     </th>     <td> </td>    \n",
       "</tr>\n",
       "<tr>\n",
       "  <th>Covariance Type:</th>      <td>nonrobust</td>    <th>                     </th>     <td> </td>    \n",
       "</tr>\n",
       "</table>\n",
       "<table class=\"simpletable\">\n",
       "<tr>\n",
       "              <td></td>                <th>coef</th>     <th>std err</th>      <th>t</th>      <th>P>|t|</th>  <th>[0.025</th>    <th>0.975]</th>  \n",
       "</tr>\n",
       "<tr>\n",
       "  <th>const</th>                    <td>    2.2431</td> <td>    0.072</td> <td>   31.313</td> <td> 0.000</td> <td>    2.103</td> <td>    2.384</td>\n",
       "</tr>\n",
       "<tr>\n",
       "  <th>Weeks</th>                    <td>    0.0622</td> <td>    0.002</td> <td>   33.675</td> <td> 0.000</td> <td>    0.059</td> <td>    0.066</td>\n",
       "</tr>\n",
       "<tr>\n",
       "  <th>Weight Gained</th>            <td>    0.0024</td> <td>    0.000</td> <td>    6.904</td> <td> 0.000</td> <td>    0.002</td> <td>    0.003</td>\n",
       "</tr>\n",
       "<tr>\n",
       "  <th>Sex_category_female</th>      <td>   -0.0285</td> <td>    0.010</td> <td>   -2.920</td> <td> 0.004</td> <td>   -0.048</td> <td>   -0.009</td>\n",
       "</tr>\n",
       "<tr>\n",
       "  <th>Marital_category_married</th> <td>    0.0506</td> <td>    0.010</td> <td>    4.859</td> <td> 0.000</td> <td>    0.030</td> <td>    0.071</td>\n",
       "</tr>\n",
       "<tr>\n",
       "  <th>Smoke_category_yes</th>       <td>   -0.0521</td> <td>    0.014</td> <td>   -3.729</td> <td> 0.000</td> <td>   -0.080</td> <td>   -0.025</td>\n",
       "</tr>\n",
       "</table>\n",
       "<table class=\"simpletable\">\n",
       "<tr>\n",
       "  <th>Omnibus:</th>       <td>412.195</td> <th>  Durbin-Watson:     </th> <td>   1.906</td>\n",
       "</tr>\n",
       "<tr>\n",
       "  <th>Prob(Omnibus):</th> <td> 0.000</td>  <th>  Jarque-Bera (JB):  </th> <td>1954.458</td>\n",
       "</tr>\n",
       "<tr>\n",
       "  <th>Skew:</th>          <td>-1.299</td>  <th>  Prob(JB):          </th> <td>    0.00</td>\n",
       "</tr>\n",
       "<tr>\n",
       "  <th>Kurtosis:</th>      <td> 8.152</td>  <th>  Cond. No.          </th> <td>    738.</td>\n",
       "</tr>\n",
       "</table><br/><br/>Warnings:<br/>[1] Standard Errors assume that the covariance matrix of the errors is correctly specified."
      ],
      "text/plain": [
       "<class 'statsmodels.iolib.summary.Summary'>\n",
       "\"\"\"\n",
       "                            OLS Regression Results                            \n",
       "==============================================================================\n",
       "Dep. Variable:          BirthWeightOz   R-squared:                       0.480\n",
       "Model:                            OLS   Adj. R-squared:                  0.478\n",
       "Method:                 Least Squares   F-statistic:                     259.3\n",
       "Date:                Wed, 20 Oct 2021   Prob (F-statistic):          1.86e-196\n",
       "Time:                        20:44:24   Log-Likelihood:                 397.27\n",
       "No. Observations:                1409   AIC:                            -782.5\n",
       "Df Residuals:                    1403   BIC:                            -751.0\n",
       "Df Model:                           5                                         \n",
       "Covariance Type:            nonrobust                                         \n",
       "============================================================================================\n",
       "                               coef    std err          t      P>|t|      [0.025      0.975]\n",
       "--------------------------------------------------------------------------------------------\n",
       "const                        2.2431      0.072     31.313      0.000       2.103       2.384\n",
       "Weeks                        0.0622      0.002     33.675      0.000       0.059       0.066\n",
       "Weight Gained                0.0024      0.000      6.904      0.000       0.002       0.003\n",
       "Sex_category_female         -0.0285      0.010     -2.920      0.004      -0.048      -0.009\n",
       "Marital_category_married     0.0506      0.010      4.859      0.000       0.030       0.071\n",
       "Smoke_category_yes          -0.0521      0.014     -3.729      0.000      -0.080      -0.025\n",
       "==============================================================================\n",
       "Omnibus:                      412.195   Durbin-Watson:                   1.906\n",
       "Prob(Omnibus):                  0.000   Jarque-Bera (JB):             1954.458\n",
       "Skew:                          -1.299   Prob(JB):                         0.00\n",
       "Kurtosis:                       8.152   Cond. No.                         738.\n",
       "==============================================================================\n",
       "\n",
       "Warnings:\n",
       "[1] Standard Errors assume that the covariance matrix of the errors is correctly specified.\n",
       "\"\"\""
      ]
     },
     "execution_count": 38,
     "metadata": {},
     "output_type": "execute_result"
    }
   ],
   "source": [
    "#Use stats models to run regression\n",
    "lr = sm.OLS(np.log(y), x)\n",
    "model = lr.fit()\n",
    "model.summary()"
   ]
  },
  {
   "cell_type": "code",
   "execution_count": 39,
   "metadata": {},
   "outputs": [
    {
     "data": {
      "text/plain": [
       "array([[ 2.24312023],\n",
       "       [ 0.06217591],\n",
       "       [ 0.00243101],\n",
       "       [-0.02850276],\n",
       "       [ 0.05057729],\n",
       "       [-0.05212645]])"
      ]
     },
     "execution_count": 39,
     "metadata": {},
     "output_type": "execute_result"
    }
   ],
   "source": [
    "#Calculate coefficients using linear algebra formulas from part 1\n",
    "\n",
    "coefficients = regression_formula(x.values, np.log(y.values))\n",
    "coefficients"
   ]
  },
  {
   "cell_type": "code",
   "execution_count": 40,
   "metadata": {},
   "outputs": [
    {
     "data": {
      "text/plain": [
       "array([[ 2.24312023],\n",
       "       [ 0.06217591],\n",
       "       [ 0.00243101],\n",
       "       [-0.02850276],\n",
       "       [ 0.05057729],\n",
       "       [-0.05212645]])"
      ]
     },
     "execution_count": 40,
     "metadata": {},
     "output_type": "execute_result"
    }
   ],
   "source": [
    "#Do formula with numpy to compare\n",
    "np.dot(np.dot(np.linalg.inv(np.dot(np.transpose(x.values),x.values)), np.transpose(x.values)), np.log(y.values))"
   ]
  },
  {
   "cell_type": "code",
   "execution_count": 41,
   "metadata": {},
   "outputs": [
    {
     "data": {
      "text/html": [
       "<div>\n",
       "<style scoped>\n",
       "    .dataframe tbody tr th:only-of-type {\n",
       "        vertical-align: middle;\n",
       "    }\n",
       "\n",
       "    .dataframe tbody tr th {\n",
       "        vertical-align: top;\n",
       "    }\n",
       "\n",
       "    .dataframe thead th {\n",
       "        text-align: right;\n",
       "    }\n",
       "</style>\n",
       "<table border=\"1\" class=\"dataframe\">\n",
       "  <thead>\n",
       "    <tr style=\"text-align: right;\">\n",
       "      <th></th>\n",
       "      <th>Coefficient</th>\n",
       "      <th>Variable</th>\n",
       "    </tr>\n",
       "  </thead>\n",
       "  <tbody>\n",
       "    <tr>\n",
       "      <th>0</th>\n",
       "      <td>2.243120</td>\n",
       "      <td>const</td>\n",
       "    </tr>\n",
       "    <tr>\n",
       "      <th>1</th>\n",
       "      <td>0.062176</td>\n",
       "      <td>Weeks</td>\n",
       "    </tr>\n",
       "    <tr>\n",
       "      <th>2</th>\n",
       "      <td>0.002431</td>\n",
       "      <td>Weight Gained</td>\n",
       "    </tr>\n",
       "    <tr>\n",
       "      <th>3</th>\n",
       "      <td>-0.028503</td>\n",
       "      <td>Sex_category_female</td>\n",
       "    </tr>\n",
       "    <tr>\n",
       "      <th>4</th>\n",
       "      <td>0.050577</td>\n",
       "      <td>Marital_category_married</td>\n",
       "    </tr>\n",
       "    <tr>\n",
       "      <th>5</th>\n",
       "      <td>-0.052126</td>\n",
       "      <td>Smoke_category_yes</td>\n",
       "    </tr>\n",
       "  </tbody>\n",
       "</table>\n",
       "</div>"
      ],
      "text/plain": [
       "   Coefficient                  Variable\n",
       "0     2.243120                     const\n",
       "1     0.062176                     Weeks\n",
       "2     0.002431             Weight Gained\n",
       "3    -0.028503       Sex_category_female\n",
       "4     0.050577  Marital_category_married\n",
       "5    -0.052126        Smoke_category_yes"
      ]
     },
     "execution_count": 41,
     "metadata": {},
     "output_type": "execute_result"
    }
   ],
   "source": [
    "#Create a coefficient dataframe\n",
    "coeff_df = pd.DataFrame(coefficients, \n",
    "             columns=['Coefficient'])\n",
    "\n",
    "variable_df = pd.DataFrame(x.columns, \n",
    "             columns=['Variable'])\n",
    "\n",
    "coeff_df = coeff_df.merge(variable_df, how='inner', left_index=True, right_index=True)\n",
    "coeff_df"
   ]
  },
  {
   "cell_type": "markdown",
   "metadata": {},
   "source": [
    "##### Get Predictions and evaluate performance"
   ]
  },
  {
   "cell_type": "code",
   "execution_count": 42,
   "metadata": {},
   "outputs": [
    {
     "data": {
      "text/html": [
       "<div>\n",
       "<style scoped>\n",
       "    .dataframe tbody tr th:only-of-type {\n",
       "        vertical-align: middle;\n",
       "    }\n",
       "\n",
       "    .dataframe tbody tr th {\n",
       "        vertical-align: top;\n",
       "    }\n",
       "\n",
       "    .dataframe thead th {\n",
       "        text-align: right;\n",
       "    }\n",
       "</style>\n",
       "<table border=\"1\" class=\"dataframe\">\n",
       "  <thead>\n",
       "    <tr style=\"text-align: right;\">\n",
       "      <th></th>\n",
       "      <th>0</th>\n",
       "    </tr>\n",
       "  </thead>\n",
       "  <tbody>\n",
       "    <tr>\n",
       "      <th>0</th>\n",
       "      <td>4.873112</td>\n",
       "    </tr>\n",
       "    <tr>\n",
       "      <th>1</th>\n",
       "      <td>4.648358</td>\n",
       "    </tr>\n",
       "    <tr>\n",
       "      <th>2</th>\n",
       "      <td>4.747730</td>\n",
       "    </tr>\n",
       "    <tr>\n",
       "      <th>3</th>\n",
       "      <td>4.755023</td>\n",
       "    </tr>\n",
       "    <tr>\n",
       "      <th>4</th>\n",
       "      <td>4.796350</td>\n",
       "    </tr>\n",
       "  </tbody>\n",
       "</table>\n",
       "</div>"
      ],
      "text/plain": [
       "          0\n",
       "0  4.873112\n",
       "1  4.648358\n",
       "2  4.747730\n",
       "3  4.755023\n",
       "4  4.796350"
      ]
     },
     "execution_count": 42,
     "metadata": {},
     "output_type": "execute_result"
    }
   ],
   "source": [
    "#Get Predictions from stats models\n",
    "sm_pred = pd.DataFrame(model.predict(x))\n",
    "sm_pred.head()"
   ]
  },
  {
   "cell_type": "code",
   "execution_count": 43,
   "metadata": {},
   "outputs": [
    {
     "data": {
      "text/html": [
       "<div>\n",
       "<style scoped>\n",
       "    .dataframe tbody tr th:only-of-type {\n",
       "        vertical-align: middle;\n",
       "    }\n",
       "\n",
       "    .dataframe tbody tr th {\n",
       "        vertical-align: top;\n",
       "    }\n",
       "\n",
       "    .dataframe thead th {\n",
       "        text-align: right;\n",
       "    }\n",
       "</style>\n",
       "<table border=\"1\" class=\"dataframe\">\n",
       "  <thead>\n",
       "    <tr style=\"text-align: right;\">\n",
       "      <th></th>\n",
       "      <th>Prediction</th>\n",
       "    </tr>\n",
       "  </thead>\n",
       "  <tbody>\n",
       "    <tr>\n",
       "      <th>0</th>\n",
       "      <td>4.873112</td>\n",
       "    </tr>\n",
       "    <tr>\n",
       "      <th>1</th>\n",
       "      <td>4.648358</td>\n",
       "    </tr>\n",
       "    <tr>\n",
       "      <th>2</th>\n",
       "      <td>4.747730</td>\n",
       "    </tr>\n",
       "    <tr>\n",
       "      <th>3</th>\n",
       "      <td>4.755023</td>\n",
       "    </tr>\n",
       "    <tr>\n",
       "      <th>4</th>\n",
       "      <td>4.796350</td>\n",
       "    </tr>\n",
       "  </tbody>\n",
       "</table>\n",
       "</div>"
      ],
      "text/plain": [
       "   Prediction\n",
       "0    4.873112\n",
       "1    4.648358\n",
       "2    4.747730\n",
       "3    4.755023\n",
       "4    4.796350"
      ]
     },
     "execution_count": 43,
     "metadata": {},
     "output_type": "execute_result"
    }
   ],
   "source": [
    "#run predictions using calculated coefficients and predictions function and compare to stats models output\n",
    "\n",
    "predictions = get_predictions(coeff_df, x)\n",
    "predictions.head()"
   ]
  },
  {
   "cell_type": "code",
   "execution_count": 44,
   "metadata": {},
   "outputs": [],
   "source": [
    "#Merge predictions onto original dataframe and log the original\n",
    "data = pd.merge(data, predictions, left_index=True,right_index=True, how='inner')\n",
    "data['LoggedBirthWeightActual'] = np.log(data['BirthWeightOz'])\n",
    "data['Exponentiated Prediction'] = np.exp(data['Prediction'])"
   ]
  },
  {
   "cell_type": "code",
   "execution_count": 45,
   "metadata": {},
   "outputs": [
    {
     "data": {
      "text/html": [
       "<div>\n",
       "<style scoped>\n",
       "    .dataframe tbody tr th:only-of-type {\n",
       "        vertical-align: middle;\n",
       "    }\n",
       "\n",
       "    .dataframe tbody tr th {\n",
       "        vertical-align: top;\n",
       "    }\n",
       "\n",
       "    .dataframe thead th {\n",
       "        text-align: right;\n",
       "    }\n",
       "</style>\n",
       "<table border=\"1\" class=\"dataframe\">\n",
       "  <thead>\n",
       "    <tr style=\"text-align: right;\">\n",
       "      <th></th>\n",
       "      <th>MSE</th>\n",
       "      <th>RMSE</th>\n",
       "      <th>R2</th>\n",
       "      <th>MAE</th>\n",
       "    </tr>\n",
       "  </thead>\n",
       "  <tbody>\n",
       "    <tr>\n",
       "      <th>1</th>\n",
       "      <td>0.033314</td>\n",
       "      <td>0.182521</td>\n",
       "      <td>0.480301</td>\n",
       "      <td>0.132708</td>\n",
       "    </tr>\n",
       "  </tbody>\n",
       "</table>\n",
       "</div>"
      ],
      "text/plain": [
       "        MSE      RMSE        R2       MAE\n",
       "1  0.033314  0.182521  0.480301  0.132708"
      ]
     },
     "execution_count": 45,
     "metadata": {},
     "output_type": "execute_result"
    }
   ],
   "source": [
    "#Calculate Regression metrics\n",
    "metrics = regression_metrics(data, 'LoggedBirthWeightActual','Prediction')\n",
    "metrics"
   ]
  },
  {
   "cell_type": "code",
   "execution_count": 46,
   "metadata": {},
   "outputs": [
    {
     "name": "stdout",
     "output_type": "stream",
     "text": [
      "MSE: 0.0333139991079202\n",
      "RMSE: 0.18252122919792152\n",
      "R2: 0.48030068190419584\n",
      "MAE: 0.1327078694863806\n"
     ]
    }
   ],
   "source": [
    "#Run metrics using sklearn to compare\n",
    "from sklearn.metrics import mean_squared_error\n",
    "from sklearn.metrics import r2_score\n",
    "from sklearn.metrics import mean_absolute_error\n",
    "\n",
    "print(f'MSE: {mean_squared_error(np.log(y), sm_pred)}')\n",
    "print(f'RMSE: {np.sqrt(mean_squared_error(np.log(y), sm_pred))}')\n",
    "print(f'R2: {r2_score(np.log(y), sm_pred)}')\n",
    "print(f'MAE: {mean_absolute_error(np.log(y), sm_pred)}')"
   ]
  },
  {
   "cell_type": "code",
   "execution_count": 47,
   "metadata": {},
   "outputs": [
    {
     "data": {
      "text/html": [
       "<div>\n",
       "<style scoped>\n",
       "    .dataframe tbody tr th:only-of-type {\n",
       "        vertical-align: middle;\n",
       "    }\n",
       "\n",
       "    .dataframe tbody tr th {\n",
       "        vertical-align: top;\n",
       "    }\n",
       "\n",
       "    .dataframe thead th {\n",
       "        text-align: right;\n",
       "    }\n",
       "</style>\n",
       "<table border=\"1\" class=\"dataframe\">\n",
       "  <thead>\n",
       "    <tr style=\"text-align: right;\">\n",
       "      <th></th>\n",
       "      <th>Standard Error</th>\n",
       "    </tr>\n",
       "  </thead>\n",
       "  <tbody>\n",
       "    <tr>\n",
       "      <th>0</th>\n",
       "      <td>0.071484</td>\n",
       "    </tr>\n",
       "    <tr>\n",
       "      <th>1</th>\n",
       "      <td>0.001842</td>\n",
       "    </tr>\n",
       "    <tr>\n",
       "      <th>2</th>\n",
       "      <td>0.000351</td>\n",
       "    </tr>\n",
       "    <tr>\n",
       "      <th>3</th>\n",
       "      <td>0.009741</td>\n",
       "    </tr>\n",
       "    <tr>\n",
       "      <th>4</th>\n",
       "      <td>0.010386</td>\n",
       "    </tr>\n",
       "    <tr>\n",
       "      <th>5</th>\n",
       "      <td>0.013947</td>\n",
       "    </tr>\n",
       "  </tbody>\n",
       "</table>\n",
       "</div>"
      ],
      "text/plain": [
       "   Standard Error\n",
       "0        0.071484\n",
       "1        0.001842\n",
       "2        0.000351\n",
       "3        0.009741\n",
       "4        0.010386\n",
       "5        0.013947"
      ]
     },
     "execution_count": 47,
     "metadata": {},
     "output_type": "execute_result"
    }
   ],
   "source": [
    "#Get standard errors of coefficient and compare to oens from \n",
    "coeff_std_errors = pd.DataFrame(get_coefficient_std_errors(x.values, data, 'LoggedBirthWeightActual','Prediction'),\n",
    "    columns=['Standard Error'])\n",
    "coeff_std_errors"
   ]
  },
  {
   "cell_type": "code",
   "execution_count": 48,
   "metadata": {},
   "outputs": [
    {
     "data": {
      "text/html": [
       "<div>\n",
       "<style scoped>\n",
       "    .dataframe tbody tr th:only-of-type {\n",
       "        vertical-align: middle;\n",
       "    }\n",
       "\n",
       "    .dataframe tbody tr th {\n",
       "        vertical-align: top;\n",
       "    }\n",
       "\n",
       "    .dataframe thead th {\n",
       "        text-align: right;\n",
       "    }\n",
       "</style>\n",
       "<table border=\"1\" class=\"dataframe\">\n",
       "  <thead>\n",
       "    <tr style=\"text-align: right;\">\n",
       "      <th></th>\n",
       "      <th>Coefficient</th>\n",
       "      <th>Variable</th>\n",
       "      <th>Standard Error</th>\n",
       "      <th>T Statistic</th>\n",
       "    </tr>\n",
       "  </thead>\n",
       "  <tbody>\n",
       "    <tr>\n",
       "      <th>0</th>\n",
       "      <td>2.243120</td>\n",
       "      <td>const</td>\n",
       "      <td>0.071484</td>\n",
       "      <td>31.379496</td>\n",
       "    </tr>\n",
       "    <tr>\n",
       "      <th>1</th>\n",
       "      <td>0.062176</td>\n",
       "      <td>Weeks</td>\n",
       "      <td>0.001842</td>\n",
       "      <td>33.746745</td>\n",
       "    </tr>\n",
       "    <tr>\n",
       "      <th>2</th>\n",
       "      <td>0.002431</td>\n",
       "      <td>Weight Gained</td>\n",
       "      <td>0.000351</td>\n",
       "      <td>6.918722</td>\n",
       "    </tr>\n",
       "    <tr>\n",
       "      <th>3</th>\n",
       "      <td>-0.028503</td>\n",
       "      <td>Sex_category_female</td>\n",
       "      <td>0.009741</td>\n",
       "      <td>-2.926031</td>\n",
       "    </tr>\n",
       "    <tr>\n",
       "      <th>4</th>\n",
       "      <td>0.050577</td>\n",
       "      <td>Marital_category_married</td>\n",
       "      <td>0.010386</td>\n",
       "      <td>4.869534</td>\n",
       "    </tr>\n",
       "    <tr>\n",
       "      <th>5</th>\n",
       "      <td>-0.052126</td>\n",
       "      <td>Smoke_category_yes</td>\n",
       "      <td>0.013947</td>\n",
       "      <td>-3.737373</td>\n",
       "    </tr>\n",
       "  </tbody>\n",
       "</table>\n",
       "</div>"
      ],
      "text/plain": [
       "   Coefficient                  Variable  Standard Error  T Statistic\n",
       "0     2.243120                     const        0.071484    31.379496\n",
       "1     0.062176                     Weeks        0.001842    33.746745\n",
       "2     0.002431             Weight Gained        0.000351     6.918722\n",
       "3    -0.028503       Sex_category_female        0.009741    -2.926031\n",
       "4     0.050577  Marital_category_married        0.010386     4.869534\n",
       "5    -0.052126        Smoke_category_yes        0.013947    -3.737373"
      ]
     },
     "execution_count": 48,
     "metadata": {},
     "output_type": "execute_result"
    }
   ],
   "source": [
    "#Merge standard error with coefficient dataframe and calculate test statistic for statistical significance\n",
    "coeff_df = pd.merge(coeff_df, coeff_std_errors, left_index=True, right_index=True, how='inner')\n",
    "coeff_df['T Statistic'] = coeff_df['Coefficient'] / coeff_df['Standard Error']\n",
    "coeff_df"
   ]
  },
  {
   "cell_type": "code",
   "execution_count": 49,
   "metadata": {},
   "outputs": [
    {
     "data": {
      "text/html": [
       "<div>\n",
       "<style scoped>\n",
       "    .dataframe tbody tr th:only-of-type {\n",
       "        vertical-align: middle;\n",
       "    }\n",
       "\n",
       "    .dataframe tbody tr th {\n",
       "        vertical-align: top;\n",
       "    }\n",
       "\n",
       "    .dataframe thead th {\n",
       "        text-align: right;\n",
       "    }\n",
       "</style>\n",
       "<table border=\"1\" class=\"dataframe\">\n",
       "  <thead>\n",
       "    <tr style=\"text-align: right;\">\n",
       "      <th></th>\n",
       "      <th>VIF Factor</th>\n",
       "      <th>features</th>\n",
       "    </tr>\n",
       "  </thead>\n",
       "  <tbody>\n",
       "    <tr>\n",
       "      <th>0</th>\n",
       "      <td>216.121208</td>\n",
       "      <td>const</td>\n",
       "    </tr>\n",
       "    <tr>\n",
       "      <th>1</th>\n",
       "      <td>1.010678</td>\n",
       "      <td>Weeks</td>\n",
       "    </tr>\n",
       "    <tr>\n",
       "      <th>2</th>\n",
       "      <td>1.004605</td>\n",
       "      <td>Weight Gained</td>\n",
       "    </tr>\n",
       "    <tr>\n",
       "      <th>3</th>\n",
       "      <td>1.002836</td>\n",
       "      <td>Sex_category_female</td>\n",
       "    </tr>\n",
       "    <tr>\n",
       "      <th>4</th>\n",
       "      <td>1.030947</td>\n",
       "      <td>Marital_category_married</td>\n",
       "    </tr>\n",
       "    <tr>\n",
       "      <th>5</th>\n",
       "      <td>1.027019</td>\n",
       "      <td>Smoke_category_yes</td>\n",
       "    </tr>\n",
       "  </tbody>\n",
       "</table>\n",
       "</div>"
      ],
      "text/plain": [
       "   VIF Factor                  features\n",
       "0  216.121208                     const\n",
       "1    1.010678                     Weeks\n",
       "2    1.004605             Weight Gained\n",
       "3    1.002836       Sex_category_female\n",
       "4    1.030947  Marital_category_married\n",
       "5    1.027019        Smoke_category_yes"
      ]
     },
     "execution_count": 49,
     "metadata": {},
     "output_type": "execute_result"
    }
   ],
   "source": [
    "#calculate vif scores using statsmodels\n",
    "vif = pd.DataFrame()\n",
    "vif[\"VIF Factor\"] = [variance_inflation_factor(x.values, i) for i in range(x.shape[1])]\n",
    "vif[\"features\"] = x.columns\n",
    "vif"
   ]
  },
  {
   "cell_type": "code",
   "execution_count": 50,
   "metadata": {},
   "outputs": [],
   "source": [
    "#Write Dataframes to excel\n",
    "writer = pd.ExcelWriter(r'C:\\Users\\nickp\\Desktop\\data science\\baby weight\\baby weight regression output.xlsx')\n",
    "\n",
    "coeff_df.to_excel(writer, \"Coefficients\", index=False)\n",
    "data.to_excel(writer, \"dataset with pred\", index=False)\n",
    "metrics.to_excel(writer, \"metrics\", index=False)\n",
    "\n",
    "writer.save()"
   ]
  }
 ],
 "metadata": {
  "kernelspec": {
   "display_name": "Python 3",
   "language": "python",
   "name": "python3"
  },
  "language_info": {
   "codemirror_mode": {
    "name": "ipython",
    "version": 3
   },
   "file_extension": ".py",
   "mimetype": "text/x-python",
   "name": "python",
   "nbconvert_exporter": "python",
   "pygments_lexer": "ipython3",
   "version": "3.7.3"
  }
 },
 "nbformat": 4,
 "nbformat_minor": 2
}
